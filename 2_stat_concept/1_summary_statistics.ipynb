{
  "cells": [
    {
      "cell_type": "markdown",
      "source": "## Working with Summary Statistics",
      "metadata": {
        "cell_id": "00000-d3a86484-c928-4cd1-bf77-a3bb949d5fdf",
        "deepnote_cell_type": "markdown"
      }
    },
    {
      "cell_type": "code",
      "metadata": {
        "cell_id": "00001-c037158b-d857-4a8e-8cfd-7d764cb7a9af",
        "deepnote_to_be_reexecuted": false,
        "source_hash": "9b82ee11",
        "execution_millis": 41,
        "execution_start": 1615166604128,
        "deepnote_cell_type": "code"
      },
      "source": "import pandas as pd",
      "execution_count": 1,
      "outputs": []
    },
    {
      "cell_type": "code",
      "metadata": {
        "cell_id": "00002-1cdbc678-070b-4c6e-b2ee-80572135d6ee",
        "deepnote_to_be_reexecuted": false,
        "source_hash": "17f5ba25",
        "execution_millis": 95,
        "execution_start": 1615166604170,
        "deepnote_cell_type": "code"
      },
      "source": "# https://trends.google.com/trends/explore?date=all&geo=US&q=Golf,Soccer,Tennis,Hockey,Baseball\n# Read in file\nsports = pd.read_csv(\"/datasets/sport/sport.csv\", skiprows=2)\n\n# Reset column names\ncol_names = ['Month', 'Golf', 'Soccer', 'Tennis', 'Hockey', 'Baseball']\nsports.columns = col_names\n\nsports.head()",
      "execution_count": 2,
      "outputs": [
        {
          "output_type": "execute_result",
          "execution_count": 2,
          "data": {
            "application/vnd.deepnote.dataframe.v2+json": {
              "row_count": 5,
              "column_count": 6,
              "columns": [
                {
                  "name": "Month",
                  "dtype": "object",
                  "stats": {
                    "unique_count": 5,
                    "nan_count": 0,
                    "categories": [
                      {
                        "name": "2004-01",
                        "count": 1
                      },
                      {
                        "name": "2004-02",
                        "count": 1
                      },
                      {
                        "name": "3 others",
                        "count": 3
                      }
                    ]
                  }
                },
                {
                  "name": "Golf",
                  "dtype": "int64",
                  "stats": {
                    "unique_count": 5,
                    "nan_count": 0,
                    "min": 45,
                    "max": 82,
                    "histogram": [
                      {
                        "bin_start": 45,
                        "bin_end": 48.7,
                        "count": 1
                      },
                      {
                        "bin_start": 48.7,
                        "bin_end": 52.4,
                        "count": 1
                      },
                      {
                        "bin_start": 52.4,
                        "bin_end": 56.1,
                        "count": 0
                      },
                      {
                        "bin_start": 56.1,
                        "bin_end": 59.8,
                        "count": 0
                      },
                      {
                        "bin_start": 59.8,
                        "bin_end": 63.5,
                        "count": 0
                      },
                      {
                        "bin_start": 63.5,
                        "bin_end": 67.2,
                        "count": 1
                      },
                      {
                        "bin_start": 67.2,
                        "bin_end": 70.9,
                        "count": 0
                      },
                      {
                        "bin_start": 70.9,
                        "bin_end": 74.6,
                        "count": 0
                      },
                      {
                        "bin_start": 74.6,
                        "bin_end": 78.30000000000001,
                        "count": 0
                      },
                      {
                        "bin_start": 78.30000000000001,
                        "bin_end": 82,
                        "count": 2
                      }
                    ]
                  }
                },
                {
                  "name": "Soccer",
                  "dtype": "int64",
                  "stats": {
                    "unique_count": 4,
                    "nan_count": 0,
                    "min": 21,
                    "max": 29,
                    "histogram": [
                      {
                        "bin_start": 21,
                        "bin_end": 21.8,
                        "count": 1
                      },
                      {
                        "bin_start": 21.8,
                        "bin_end": 22.6,
                        "count": 0
                      },
                      {
                        "bin_start": 22.6,
                        "bin_end": 23.4,
                        "count": 1
                      },
                      {
                        "bin_start": 23.4,
                        "bin_end": 24.2,
                        "count": 0
                      },
                      {
                        "bin_start": 24.2,
                        "bin_end": 25,
                        "count": 0
                      },
                      {
                        "bin_start": 25,
                        "bin_end": 25.8,
                        "count": 0
                      },
                      {
                        "bin_start": 25.8,
                        "bin_end": 26.6,
                        "count": 0
                      },
                      {
                        "bin_start": 26.6,
                        "bin_end": 27.4,
                        "count": 1
                      },
                      {
                        "bin_start": 27.4,
                        "bin_end": 28.2,
                        "count": 0
                      },
                      {
                        "bin_start": 28.2,
                        "bin_end": 29,
                        "count": 2
                      }
                    ]
                  }
                },
                {
                  "name": "Tennis",
                  "dtype": "int64",
                  "stats": {
                    "unique_count": 3,
                    "nan_count": 0,
                    "min": 13,
                    "max": 17,
                    "histogram": [
                      {
                        "bin_start": 13,
                        "bin_end": 13.4,
                        "count": 2
                      },
                      {
                        "bin_start": 13.4,
                        "bin_end": 13.8,
                        "count": 0
                      },
                      {
                        "bin_start": 13.8,
                        "bin_end": 14.2,
                        "count": 0
                      },
                      {
                        "bin_start": 14.2,
                        "bin_end": 14.6,
                        "count": 0
                      },
                      {
                        "bin_start": 14.6,
                        "bin_end": 15,
                        "count": 0
                      },
                      {
                        "bin_start": 15,
                        "bin_end": 15.4,
                        "count": 0
                      },
                      {
                        "bin_start": 15.4,
                        "bin_end": 15.8,
                        "count": 0
                      },
                      {
                        "bin_start": 15.8,
                        "bin_end": 16.2,
                        "count": 2
                      },
                      {
                        "bin_start": 16.2,
                        "bin_end": 16.6,
                        "count": 0
                      },
                      {
                        "bin_start": 16.6,
                        "bin_end": 17,
                        "count": 1
                      }
                    ]
                  }
                },
                {
                  "name": "Hockey",
                  "dtype": "int64",
                  "stats": {
                    "unique_count": 4,
                    "nan_count": 0,
                    "min": 14,
                    "max": 22,
                    "histogram": [
                      {
                        "bin_start": 14,
                        "bin_end": 14.8,
                        "count": 1
                      },
                      {
                        "bin_start": 14.8,
                        "bin_end": 15.6,
                        "count": 0
                      },
                      {
                        "bin_start": 15.6,
                        "bin_end": 16.4,
                        "count": 1
                      },
                      {
                        "bin_start": 16.4,
                        "bin_end": 17.2,
                        "count": 0
                      },
                      {
                        "bin_start": 17.2,
                        "bin_end": 18,
                        "count": 0
                      },
                      {
                        "bin_start": 18,
                        "bin_end": 18.8,
                        "count": 0
                      },
                      {
                        "bin_start": 18.8,
                        "bin_end": 19.6,
                        "count": 0
                      },
                      {
                        "bin_start": 19.6,
                        "bin_end": 20.4,
                        "count": 0
                      },
                      {
                        "bin_start": 20.4,
                        "bin_end": 21.2,
                        "count": 1
                      },
                      {
                        "bin_start": 21.2,
                        "bin_end": 22,
                        "count": 2
                      }
                    ]
                  }
                },
                {
                  "name": "Baseball",
                  "dtype": "int64",
                  "stats": {
                    "unique_count": 5,
                    "nan_count": 0,
                    "min": 25,
                    "max": 54,
                    "histogram": [
                      {
                        "bin_start": 25,
                        "bin_end": 27.9,
                        "count": 1
                      },
                      {
                        "bin_start": 27.9,
                        "bin_end": 30.8,
                        "count": 0
                      },
                      {
                        "bin_start": 30.8,
                        "bin_end": 33.7,
                        "count": 1
                      },
                      {
                        "bin_start": 33.7,
                        "bin_end": 36.6,
                        "count": 0
                      },
                      {
                        "bin_start": 36.6,
                        "bin_end": 39.5,
                        "count": 0
                      },
                      {
                        "bin_start": 39.5,
                        "bin_end": 42.4,
                        "count": 0
                      },
                      {
                        "bin_start": 42.4,
                        "bin_end": 45.3,
                        "count": 1
                      },
                      {
                        "bin_start": 45.3,
                        "bin_end": 48.2,
                        "count": 0
                      },
                      {
                        "bin_start": 48.2,
                        "bin_end": 51.099999999999994,
                        "count": 0
                      },
                      {
                        "bin_start": 51.099999999999994,
                        "bin_end": 54,
                        "count": 2
                      }
                    ]
                  }
                },
                {
                  "name": "_deepnote_index_column",
                  "dtype": "int64"
                }
              ],
              "rows_top": [
                {
                  "Month": "2004-01",
                  "Golf": 45,
                  "Soccer": 21,
                  "Tennis": 13,
                  "Hockey": 21,
                  "Baseball": 25,
                  "_deepnote_index_column": 0
                },
                {
                  "Month": "2004-02",
                  "Golf": 49,
                  "Soccer": 23,
                  "Tennis": 13,
                  "Hockey": 22,
                  "Baseball": 32,
                  "_deepnote_index_column": 1
                },
                {
                  "Month": "2004-03",
                  "Golf": 64,
                  "Soccer": 27,
                  "Tennis": 16,
                  "Hockey": 22,
                  "Baseball": 44,
                  "_deepnote_index_column": 2
                },
                {
                  "Month": "2004-04",
                  "Golf": 81,
                  "Soccer": 29,
                  "Tennis": 16,
                  "Hockey": 16,
                  "Baseball": 54,
                  "_deepnote_index_column": 3
                },
                {
                  "Month": "2004-05",
                  "Golf": 82,
                  "Soccer": 29,
                  "Tennis": 17,
                  "Hockey": 14,
                  "Baseball": 53,
                  "_deepnote_index_column": 4
                }
              ],
              "rows_bottom": null
            },
            "text/plain": "     Month  Golf  Soccer  Tennis  Hockey  Baseball\n0  2004-01    45      21      13      21        25\n1  2004-02    49      23      13      22        32\n2  2004-03    64      27      16      22        44\n3  2004-04    81      29      16      16        54\n4  2004-05    82      29      17      14        53",
            "text/html": "<div>\n<style scoped>\n    .dataframe tbody tr th:only-of-type {\n        vertical-align: middle;\n    }\n\n    .dataframe tbody tr th {\n        vertical-align: top;\n    }\n\n    .dataframe thead th {\n        text-align: right;\n    }\n</style>\n<table border=\"1\" class=\"dataframe\">\n  <thead>\n    <tr style=\"text-align: right;\">\n      <th></th>\n      <th>Month</th>\n      <th>Golf</th>\n      <th>Soccer</th>\n      <th>Tennis</th>\n      <th>Hockey</th>\n      <th>Baseball</th>\n    </tr>\n  </thead>\n  <tbody>\n    <tr>\n      <th>0</th>\n      <td>2004-01</td>\n      <td>45</td>\n      <td>21</td>\n      <td>13</td>\n      <td>21</td>\n      <td>25</td>\n    </tr>\n    <tr>\n      <th>1</th>\n      <td>2004-02</td>\n      <td>49</td>\n      <td>23</td>\n      <td>13</td>\n      <td>22</td>\n      <td>32</td>\n    </tr>\n    <tr>\n      <th>2</th>\n      <td>2004-03</td>\n      <td>64</td>\n      <td>27</td>\n      <td>16</td>\n      <td>22</td>\n      <td>44</td>\n    </tr>\n    <tr>\n      <th>3</th>\n      <td>2004-04</td>\n      <td>81</td>\n      <td>29</td>\n      <td>16</td>\n      <td>16</td>\n      <td>54</td>\n    </tr>\n    <tr>\n      <th>4</th>\n      <td>2004-05</td>\n      <td>82</td>\n      <td>29</td>\n      <td>17</td>\n      <td>14</td>\n      <td>53</td>\n    </tr>\n  </tbody>\n</table>\n</div>"
          },
          "metadata": {}
        }
      ]
    },
    {
      "cell_type": "code",
      "source": "! ls /datasets/sport",
      "metadata": {
        "tags": [],
        "cell_id": "00003-eedb0349-2fff-42c5-bb8a-caf15ff8332d",
        "deepnote_to_be_reexecuted": false,
        "source_hash": "96514306",
        "execution_millis": 607,
        "execution_start": 1615166604261,
        "deepnote_cell_type": "code"
      },
      "outputs": [
        {
          "name": "stdout",
          "text": "sport.csv\r\n",
          "output_type": "stream"
        }
      ],
      "execution_count": 3
    },
    {
      "cell_type": "code",
      "metadata": {
        "cell_id": "00003-77fa8896-7567-4824-8a2f-a5c12881c2a4",
        "deepnote_to_be_reexecuted": false,
        "source_hash": "935a9734",
        "execution_millis": 2,
        "execution_start": 1615166604869,
        "deepnote_cell_type": "code"
      },
      "source": "# Set index\nsports.set_index('Month', inplace=True)",
      "execution_count": 4,
      "outputs": []
    },
    {
      "cell_type": "code",
      "metadata": {
        "cell_id": "00004-609e6786-078c-42a1-ac30-b63e6aa4bbf9",
        "deepnote_to_be_reexecuted": false,
        "source_hash": "c1378386",
        "execution_millis": 7,
        "execution_start": 1615166604875,
        "deepnote_cell_type": "code"
      },
      "source": "# Gives you the rows and columns\nsports.shape",
      "execution_count": 5,
      "outputs": [
        {
          "output_type": "execute_result",
          "execution_count": 5,
          "data": {
            "text/plain": "(207, 5)"
          },
          "metadata": {}
        }
      ]
    },
    {
      "cell_type": "code",
      "metadata": {
        "cell_id": "00005-dc3b5973-e960-47de-bc84-cb290b805d89",
        "deepnote_to_be_reexecuted": false,
        "source_hash": "75712067",
        "execution_start": 1615166604879,
        "execution_millis": 79,
        "deepnote_cell_type": "code"
      },
      "source": "# Obtain the descriptive (summary) statistics\nsports.describe()",
      "execution_count": 6,
      "outputs": [
        {
          "output_type": "execute_result",
          "execution_count": 6,
          "data": {
            "application/vnd.deepnote.dataframe.v2+json": {
              "row_count": 8,
              "column_count": 5,
              "columns": [
                {
                  "name": "Golf",
                  "dtype": "float64",
                  "stats": {
                    "unique_count": 8,
                    "nan_count": 0,
                    "min": 17.792233581461023,
                    "max": 207,
                    "histogram": [
                      {
                        "bin_start": 17.792233581461023,
                        "bin_end": 36.713010223314924,
                        "count": 3
                      },
                      {
                        "bin_start": 36.713010223314924,
                        "bin_end": 55.633786865168815,
                        "count": 2
                      },
                      {
                        "bin_start": 55.633786865168815,
                        "bin_end": 74.55456350702272,
                        "count": 1
                      },
                      {
                        "bin_start": 74.55456350702272,
                        "bin_end": 93.47534014887661,
                        "count": 0
                      },
                      {
                        "bin_start": 93.47534014887661,
                        "bin_end": 112.39611679073052,
                        "count": 1
                      },
                      {
                        "bin_start": 112.39611679073052,
                        "bin_end": 131.3168934325844,
                        "count": 0
                      },
                      {
                        "bin_start": 131.3168934325844,
                        "bin_end": 150.2376700744383,
                        "count": 0
                      },
                      {
                        "bin_start": 150.2376700744383,
                        "bin_end": 169.15844671629222,
                        "count": 0
                      },
                      {
                        "bin_start": 169.15844671629222,
                        "bin_end": 188.07922335814612,
                        "count": 0
                      },
                      {
                        "bin_start": 188.07922335814612,
                        "bin_end": 207,
                        "count": 1
                      }
                    ]
                  }
                },
                {
                  "name": "Soccer",
                  "dtype": "float64",
                  "stats": {
                    "unique_count": 8,
                    "nan_count": 0,
                    "min": 9,
                    "max": 207,
                    "histogram": [
                      {
                        "bin_start": 9,
                        "bin_end": 28.8,
                        "count": 5
                      },
                      {
                        "bin_start": 28.8,
                        "bin_end": 48.6,
                        "count": 1
                      },
                      {
                        "bin_start": 48.6,
                        "bin_end": 68.4,
                        "count": 0
                      },
                      {
                        "bin_start": 68.4,
                        "bin_end": 88.2,
                        "count": 1
                      },
                      {
                        "bin_start": 88.2,
                        "bin_end": 108,
                        "count": 0
                      },
                      {
                        "bin_start": 108,
                        "bin_end": 127.80000000000001,
                        "count": 0
                      },
                      {
                        "bin_start": 127.80000000000001,
                        "bin_end": 147.6,
                        "count": 0
                      },
                      {
                        "bin_start": 147.6,
                        "bin_end": 167.4,
                        "count": 0
                      },
                      {
                        "bin_start": 167.4,
                        "bin_end": 187.20000000000002,
                        "count": 0
                      },
                      {
                        "bin_start": 187.20000000000002,
                        "bin_end": 207,
                        "count": 1
                      }
                    ]
                  }
                },
                {
                  "name": "Tennis",
                  "dtype": "float64",
                  "stats": {
                    "unique_count": 8,
                    "nan_count": 0,
                    "min": 4.1095579774291195,
                    "max": 207,
                    "histogram": [
                      {
                        "bin_start": 4.1095579774291195,
                        "bin_end": 24.398602179686208,
                        "count": 6
                      },
                      {
                        "bin_start": 24.398602179686208,
                        "bin_end": 44.687646381943296,
                        "count": 1
                      },
                      {
                        "bin_start": 44.687646381943296,
                        "bin_end": 64.97669058420038,
                        "count": 0
                      },
                      {
                        "bin_start": 64.97669058420038,
                        "bin_end": 85.26573478645747,
                        "count": 0
                      },
                      {
                        "bin_start": 85.26573478645747,
                        "bin_end": 105.55477898871456,
                        "count": 0
                      },
                      {
                        "bin_start": 105.55477898871456,
                        "bin_end": 125.84382319097165,
                        "count": 0
                      },
                      {
                        "bin_start": 125.84382319097165,
                        "bin_end": 146.13286739322874,
                        "count": 0
                      },
                      {
                        "bin_start": 146.13286739322874,
                        "bin_end": 166.42191159548582,
                        "count": 0
                      },
                      {
                        "bin_start": 166.42191159548582,
                        "bin_end": 186.7109557977429,
                        "count": 0
                      },
                      {
                        "bin_start": 186.7109557977429,
                        "bin_end": 207,
                        "count": 1
                      }
                    ]
                  }
                },
                {
                  "name": "Hockey",
                  "dtype": "float64",
                  "stats": {
                    "unique_count": 8,
                    "nan_count": 0,
                    "min": 4,
                    "max": 207,
                    "histogram": [
                      {
                        "bin_start": 4,
                        "bin_end": 24.3,
                        "count": 6
                      },
                      {
                        "bin_start": 24.3,
                        "bin_end": 44.6,
                        "count": 0
                      },
                      {
                        "bin_start": 44.6,
                        "bin_end": 64.9,
                        "count": 1
                      },
                      {
                        "bin_start": 64.9,
                        "bin_end": 85.2,
                        "count": 0
                      },
                      {
                        "bin_start": 85.2,
                        "bin_end": 105.5,
                        "count": 0
                      },
                      {
                        "bin_start": 105.5,
                        "bin_end": 125.80000000000001,
                        "count": 0
                      },
                      {
                        "bin_start": 125.80000000000001,
                        "bin_end": 146.1,
                        "count": 0
                      },
                      {
                        "bin_start": 146.1,
                        "bin_end": 166.4,
                        "count": 0
                      },
                      {
                        "bin_start": 166.4,
                        "bin_end": 186.70000000000002,
                        "count": 0
                      },
                      {
                        "bin_start": 186.70000000000002,
                        "bin_end": 207,
                        "count": 1
                      }
                    ]
                  }
                },
                {
                  "name": "Baseball",
                  "dtype": "float64",
                  "stats": {
                    "unique_count": 8,
                    "nan_count": 0,
                    "min": 12,
                    "max": 207,
                    "histogram": [
                      {
                        "bin_start": 12,
                        "bin_end": 31.5,
                        "count": 4
                      },
                      {
                        "bin_start": 31.5,
                        "bin_end": 51,
                        "count": 2
                      },
                      {
                        "bin_start": 51,
                        "bin_end": 70.5,
                        "count": 1
                      },
                      {
                        "bin_start": 70.5,
                        "bin_end": 90,
                        "count": 0
                      },
                      {
                        "bin_start": 90,
                        "bin_end": 109.5,
                        "count": 0
                      },
                      {
                        "bin_start": 109.5,
                        "bin_end": 129,
                        "count": 0
                      },
                      {
                        "bin_start": 129,
                        "bin_end": 148.5,
                        "count": 0
                      },
                      {
                        "bin_start": 148.5,
                        "bin_end": 168,
                        "count": 0
                      },
                      {
                        "bin_start": 168,
                        "bin_end": 187.5,
                        "count": 0
                      },
                      {
                        "bin_start": 187.5,
                        "bin_end": 207,
                        "count": 1
                      }
                    ]
                  }
                },
                {
                  "name": "_deepnote_index_column",
                  "dtype": "object"
                }
              ],
              "rows_top": [
                {
                  "Golf": 207,
                  "Soccer": 207,
                  "Tennis": 207,
                  "Hockey": 207,
                  "Baseball": 207,
                  "_deepnote_index_column": "count"
                },
                {
                  "Golf": 48.632850241545896,
                  "Soccer": 27.714975845410628,
                  "Tennis": 13.183574879227054,
                  "Hockey": 14.371980676328503,
                  "Baseball": 33.1256038647343,
                  "_deepnote_index_column": "mean"
                },
                {
                  "Golf": 17.792233581461023,
                  "Soccer": 9.206420188845852,
                  "Tennis": 4.1095579774291195,
                  "Hockey": 5.969321849207882,
                  "Baseball": 14.171750633463475,
                  "_deepnote_index_column": "std"
                },
                {
                  "Golf": 24,
                  "Soccer": 9,
                  "Tennis": 6,
                  "Hockey": 4,
                  "Baseball": 12,
                  "_deepnote_index_column": "min"
                },
                {
                  "Golf": 34,
                  "Soccer": 22,
                  "Tennis": 10,
                  "Hockey": 10,
                  "Baseball": 21.5,
                  "_deepnote_index_column": "25%"
                },
                {
                  "Golf": 47,
                  "Soccer": 27,
                  "Tennis": 12,
                  "Hockey": 14,
                  "Baseball": 29,
                  "_deepnote_index_column": "50%"
                },
                {
                  "Golf": 59,
                  "Soccer": 31,
                  "Tennis": 16,
                  "Hockey": 18,
                  "Baseball": 45.5,
                  "_deepnote_index_column": "75%"
                },
                {
                  "Golf": 100,
                  "Soccer": 83,
                  "Tennis": 27,
                  "Hockey": 55,
                  "Baseball": 62,
                  "_deepnote_index_column": "max"
                }
              ],
              "rows_bottom": null
            },
            "text/plain": "             Golf      Soccer      Tennis      Hockey    Baseball\ncount  207.000000  207.000000  207.000000  207.000000  207.000000\nmean    48.632850   27.714976   13.183575   14.371981   33.125604\nstd     17.792234    9.206420    4.109558    5.969322   14.171751\nmin     24.000000    9.000000    6.000000    4.000000   12.000000\n25%     34.000000   22.000000   10.000000   10.000000   21.500000\n50%     47.000000   27.000000   12.000000   14.000000   29.000000\n75%     59.000000   31.000000   16.000000   18.000000   45.500000\nmax    100.000000   83.000000   27.000000   55.000000   62.000000",
            "text/html": "<div>\n<style scoped>\n    .dataframe tbody tr th:only-of-type {\n        vertical-align: middle;\n    }\n\n    .dataframe tbody tr th {\n        vertical-align: top;\n    }\n\n    .dataframe thead th {\n        text-align: right;\n    }\n</style>\n<table border=\"1\" class=\"dataframe\">\n  <thead>\n    <tr style=\"text-align: right;\">\n      <th></th>\n      <th>Golf</th>\n      <th>Soccer</th>\n      <th>Tennis</th>\n      <th>Hockey</th>\n      <th>Baseball</th>\n    </tr>\n  </thead>\n  <tbody>\n    <tr>\n      <th>count</th>\n      <td>207.000000</td>\n      <td>207.000000</td>\n      <td>207.000000</td>\n      <td>207.000000</td>\n      <td>207.000000</td>\n    </tr>\n    <tr>\n      <th>mean</th>\n      <td>48.632850</td>\n      <td>27.714976</td>\n      <td>13.183575</td>\n      <td>14.371981</td>\n      <td>33.125604</td>\n    </tr>\n    <tr>\n      <th>std</th>\n      <td>17.792234</td>\n      <td>9.206420</td>\n      <td>4.109558</td>\n      <td>5.969322</td>\n      <td>14.171751</td>\n    </tr>\n    <tr>\n      <th>min</th>\n      <td>24.000000</td>\n      <td>9.000000</td>\n      <td>6.000000</td>\n      <td>4.000000</td>\n      <td>12.000000</td>\n    </tr>\n    <tr>\n      <th>25%</th>\n      <td>34.000000</td>\n      <td>22.000000</td>\n      <td>10.000000</td>\n      <td>10.000000</td>\n      <td>21.500000</td>\n    </tr>\n    <tr>\n      <th>50%</th>\n      <td>47.000000</td>\n      <td>27.000000</td>\n      <td>12.000000</td>\n      <td>14.000000</td>\n      <td>29.000000</td>\n    </tr>\n    <tr>\n      <th>75%</th>\n      <td>59.000000</td>\n      <td>31.000000</td>\n      <td>16.000000</td>\n      <td>18.000000</td>\n      <td>45.500000</td>\n    </tr>\n    <tr>\n      <th>max</th>\n      <td>100.000000</td>\n      <td>83.000000</td>\n      <td>27.000000</td>\n      <td>55.000000</td>\n      <td>62.000000</td>\n    </tr>\n  </tbody>\n</table>\n</div>"
          },
          "metadata": {}
        }
      ]
    },
    {
      "cell_type": "code",
      "metadata": {
        "cell_id": "00006-2f89180d-e8c5-4424-a882-e9b968dcbe0b",
        "deepnote_to_be_reexecuted": false,
        "source_hash": "19116419",
        "execution_start": 1615166604954,
        "execution_millis": 17,
        "deepnote_cell_type": "code"
      },
      "source": "# Transpose data to flip rows and columns\nsports.describe().T",
      "execution_count": 7,
      "outputs": [
        {
          "output_type": "execute_result",
          "execution_count": 7,
          "data": {
            "application/vnd.deepnote.dataframe.v2+json": {
              "row_count": 5,
              "column_count": 8,
              "columns": [
                {
                  "name": "count",
                  "dtype": "float64",
                  "stats": {
                    "unique_count": 1,
                    "nan_count": 0,
                    "min": 207,
                    "max": 207,
                    "histogram": [
                      {
                        "bin_start": 206.5,
                        "bin_end": 206.6,
                        "count": 0
                      },
                      {
                        "bin_start": 206.6,
                        "bin_end": 206.7,
                        "count": 0
                      },
                      {
                        "bin_start": 206.7,
                        "bin_end": 206.8,
                        "count": 0
                      },
                      {
                        "bin_start": 206.8,
                        "bin_end": 206.9,
                        "count": 0
                      },
                      {
                        "bin_start": 206.9,
                        "bin_end": 207,
                        "count": 0
                      },
                      {
                        "bin_start": 207,
                        "bin_end": 207.1,
                        "count": 5
                      },
                      {
                        "bin_start": 207.1,
                        "bin_end": 207.2,
                        "count": 0
                      },
                      {
                        "bin_start": 207.2,
                        "bin_end": 207.3,
                        "count": 0
                      },
                      {
                        "bin_start": 207.3,
                        "bin_end": 207.4,
                        "count": 0
                      },
                      {
                        "bin_start": 207.4,
                        "bin_end": 207.5,
                        "count": 0
                      }
                    ]
                  }
                },
                {
                  "name": "mean",
                  "dtype": "float64",
                  "stats": {
                    "unique_count": 5,
                    "nan_count": 0,
                    "min": 13.183574879227054,
                    "max": 48.632850241545896,
                    "histogram": [
                      {
                        "bin_start": 13.183574879227054,
                        "bin_end": 16.728502415458937,
                        "count": 2
                      },
                      {
                        "bin_start": 16.728502415458937,
                        "bin_end": 20.273429951690822,
                        "count": 0
                      },
                      {
                        "bin_start": 20.273429951690822,
                        "bin_end": 23.818357487922704,
                        "count": 0
                      },
                      {
                        "bin_start": 23.818357487922704,
                        "bin_end": 27.363285024154592,
                        "count": 0
                      },
                      {
                        "bin_start": 27.363285024154592,
                        "bin_end": 30.908212560386474,
                        "count": 1
                      },
                      {
                        "bin_start": 30.908212560386474,
                        "bin_end": 34.453140096618355,
                        "count": 1
                      },
                      {
                        "bin_start": 34.453140096618355,
                        "bin_end": 37.998067632850244,
                        "count": 0
                      },
                      {
                        "bin_start": 37.998067632850244,
                        "bin_end": 41.542995169082126,
                        "count": 0
                      },
                      {
                        "bin_start": 41.542995169082126,
                        "bin_end": 45.087922705314014,
                        "count": 0
                      },
                      {
                        "bin_start": 45.087922705314014,
                        "bin_end": 48.632850241545896,
                        "count": 1
                      }
                    ]
                  }
                },
                {
                  "name": "std",
                  "dtype": "float64",
                  "stats": {
                    "unique_count": 5,
                    "nan_count": 0,
                    "min": 4.1095579774291195,
                    "max": 17.792233581461023,
                    "histogram": [
                      {
                        "bin_start": 4.1095579774291195,
                        "bin_end": 5.4778255378323095,
                        "count": 1
                      },
                      {
                        "bin_start": 5.4778255378323095,
                        "bin_end": 6.8460930982355,
                        "count": 1
                      },
                      {
                        "bin_start": 6.8460930982355,
                        "bin_end": 8.214360658638691,
                        "count": 0
                      },
                      {
                        "bin_start": 8.214360658638691,
                        "bin_end": 9.582628219041881,
                        "count": 1
                      },
                      {
                        "bin_start": 9.582628219041881,
                        "bin_end": 10.950895779445071,
                        "count": 0
                      },
                      {
                        "bin_start": 10.950895779445071,
                        "bin_end": 12.319163339848263,
                        "count": 0
                      },
                      {
                        "bin_start": 12.319163339848263,
                        "bin_end": 13.687430900251453,
                        "count": 0
                      },
                      {
                        "bin_start": 13.687430900251453,
                        "bin_end": 15.055698460654643,
                        "count": 1
                      },
                      {
                        "bin_start": 15.055698460654643,
                        "bin_end": 16.423966021057833,
                        "count": 0
                      },
                      {
                        "bin_start": 16.423966021057833,
                        "bin_end": 17.792233581461023,
                        "count": 1
                      }
                    ]
                  }
                },
                {
                  "name": "min",
                  "dtype": "float64",
                  "stats": {
                    "unique_count": 5,
                    "nan_count": 0,
                    "min": 4,
                    "max": 24,
                    "histogram": [
                      {
                        "bin_start": 4,
                        "bin_end": 6,
                        "count": 1
                      },
                      {
                        "bin_start": 6,
                        "bin_end": 8,
                        "count": 1
                      },
                      {
                        "bin_start": 8,
                        "bin_end": 10,
                        "count": 1
                      },
                      {
                        "bin_start": 10,
                        "bin_end": 12,
                        "count": 0
                      },
                      {
                        "bin_start": 12,
                        "bin_end": 14,
                        "count": 1
                      },
                      {
                        "bin_start": 14,
                        "bin_end": 16,
                        "count": 0
                      },
                      {
                        "bin_start": 16,
                        "bin_end": 18,
                        "count": 0
                      },
                      {
                        "bin_start": 18,
                        "bin_end": 20,
                        "count": 0
                      },
                      {
                        "bin_start": 20,
                        "bin_end": 22,
                        "count": 0
                      },
                      {
                        "bin_start": 22,
                        "bin_end": 24,
                        "count": 1
                      }
                    ]
                  }
                },
                {
                  "name": "25%",
                  "dtype": "float64",
                  "stats": {
                    "unique_count": 4,
                    "nan_count": 0,
                    "min": 10,
                    "max": 34,
                    "histogram": [
                      {
                        "bin_start": 10,
                        "bin_end": 12.4,
                        "count": 2
                      },
                      {
                        "bin_start": 12.4,
                        "bin_end": 14.8,
                        "count": 0
                      },
                      {
                        "bin_start": 14.8,
                        "bin_end": 17.2,
                        "count": 0
                      },
                      {
                        "bin_start": 17.2,
                        "bin_end": 19.6,
                        "count": 0
                      },
                      {
                        "bin_start": 19.6,
                        "bin_end": 22,
                        "count": 1
                      },
                      {
                        "bin_start": 22,
                        "bin_end": 24.4,
                        "count": 1
                      },
                      {
                        "bin_start": 24.4,
                        "bin_end": 26.8,
                        "count": 0
                      },
                      {
                        "bin_start": 26.8,
                        "bin_end": 29.2,
                        "count": 0
                      },
                      {
                        "bin_start": 29.2,
                        "bin_end": 31.599999999999998,
                        "count": 0
                      },
                      {
                        "bin_start": 31.599999999999998,
                        "bin_end": 34,
                        "count": 1
                      }
                    ]
                  }
                },
                {
                  "name": "50%",
                  "dtype": "float64",
                  "stats": {
                    "unique_count": 5,
                    "nan_count": 0,
                    "min": 12,
                    "max": 47,
                    "histogram": [
                      {
                        "bin_start": 12,
                        "bin_end": 15.5,
                        "count": 2
                      },
                      {
                        "bin_start": 15.5,
                        "bin_end": 19,
                        "count": 0
                      },
                      {
                        "bin_start": 19,
                        "bin_end": 22.5,
                        "count": 0
                      },
                      {
                        "bin_start": 22.5,
                        "bin_end": 26,
                        "count": 0
                      },
                      {
                        "bin_start": 26,
                        "bin_end": 29.5,
                        "count": 2
                      },
                      {
                        "bin_start": 29.5,
                        "bin_end": 33,
                        "count": 0
                      },
                      {
                        "bin_start": 33,
                        "bin_end": 36.5,
                        "count": 0
                      },
                      {
                        "bin_start": 36.5,
                        "bin_end": 40,
                        "count": 0
                      },
                      {
                        "bin_start": 40,
                        "bin_end": 43.5,
                        "count": 0
                      },
                      {
                        "bin_start": 43.5,
                        "bin_end": 47,
                        "count": 1
                      }
                    ]
                  }
                },
                {
                  "name": "75%",
                  "dtype": "float64",
                  "stats": {
                    "unique_count": 5,
                    "nan_count": 0,
                    "min": 16,
                    "max": 59,
                    "histogram": [
                      {
                        "bin_start": 16,
                        "bin_end": 20.3,
                        "count": 2
                      },
                      {
                        "bin_start": 20.3,
                        "bin_end": 24.6,
                        "count": 0
                      },
                      {
                        "bin_start": 24.6,
                        "bin_end": 28.9,
                        "count": 0
                      },
                      {
                        "bin_start": 28.9,
                        "bin_end": 33.2,
                        "count": 1
                      },
                      {
                        "bin_start": 33.2,
                        "bin_end": 37.5,
                        "count": 0
                      },
                      {
                        "bin_start": 37.5,
                        "bin_end": 41.8,
                        "count": 0
                      },
                      {
                        "bin_start": 41.8,
                        "bin_end": 46.099999999999994,
                        "count": 1
                      },
                      {
                        "bin_start": 46.099999999999994,
                        "bin_end": 50.4,
                        "count": 0
                      },
                      {
                        "bin_start": 50.4,
                        "bin_end": 54.699999999999996,
                        "count": 0
                      },
                      {
                        "bin_start": 54.699999999999996,
                        "bin_end": 59,
                        "count": 1
                      }
                    ]
                  }
                },
                {
                  "name": "max",
                  "dtype": "float64",
                  "stats": {
                    "unique_count": 5,
                    "nan_count": 0,
                    "min": 27,
                    "max": 100,
                    "histogram": [
                      {
                        "bin_start": 27,
                        "bin_end": 34.3,
                        "count": 1
                      },
                      {
                        "bin_start": 34.3,
                        "bin_end": 41.6,
                        "count": 0
                      },
                      {
                        "bin_start": 41.6,
                        "bin_end": 48.9,
                        "count": 0
                      },
                      {
                        "bin_start": 48.9,
                        "bin_end": 56.2,
                        "count": 1
                      },
                      {
                        "bin_start": 56.2,
                        "bin_end": 63.5,
                        "count": 1
                      },
                      {
                        "bin_start": 63.5,
                        "bin_end": 70.8,
                        "count": 0
                      },
                      {
                        "bin_start": 70.8,
                        "bin_end": 78.1,
                        "count": 0
                      },
                      {
                        "bin_start": 78.1,
                        "bin_end": 85.4,
                        "count": 1
                      },
                      {
                        "bin_start": 85.4,
                        "bin_end": 92.7,
                        "count": 0
                      },
                      {
                        "bin_start": 92.7,
                        "bin_end": 100,
                        "count": 1
                      }
                    ]
                  }
                },
                {
                  "name": "_deepnote_index_column",
                  "dtype": "object"
                }
              ],
              "rows_top": [
                {
                  "count": 207,
                  "mean": 48.632850241545896,
                  "std": 17.792233581461023,
                  "min": 24,
                  "25%": 34,
                  "50%": 47,
                  "75%": 59,
                  "max": 100,
                  "_deepnote_index_column": "Golf"
                },
                {
                  "count": 207,
                  "mean": 27.714975845410628,
                  "std": 9.206420188845852,
                  "min": 9,
                  "25%": 22,
                  "50%": 27,
                  "75%": 31,
                  "max": 83,
                  "_deepnote_index_column": "Soccer"
                },
                {
                  "count": 207,
                  "mean": 13.183574879227054,
                  "std": 4.1095579774291195,
                  "min": 6,
                  "25%": 10,
                  "50%": 12,
                  "75%": 16,
                  "max": 27,
                  "_deepnote_index_column": "Tennis"
                },
                {
                  "count": 207,
                  "mean": 14.371980676328503,
                  "std": 5.969321849207882,
                  "min": 4,
                  "25%": 10,
                  "50%": 14,
                  "75%": 18,
                  "max": 55,
                  "_deepnote_index_column": "Hockey"
                },
                {
                  "count": 207,
                  "mean": 33.1256038647343,
                  "std": 14.171750633463475,
                  "min": 12,
                  "25%": 21.5,
                  "50%": 29,
                  "75%": 45.5,
                  "max": 62,
                  "_deepnote_index_column": "Baseball"
                }
              ],
              "rows_bottom": null
            },
            "text/plain": "          count       mean        std   min   25%   50%   75%    max\nGolf      207.0  48.632850  17.792234  24.0  34.0  47.0  59.0  100.0\nSoccer    207.0  27.714976   9.206420   9.0  22.0  27.0  31.0   83.0\nTennis    207.0  13.183575   4.109558   6.0  10.0  12.0  16.0   27.0\nHockey    207.0  14.371981   5.969322   4.0  10.0  14.0  18.0   55.0\nBaseball  207.0  33.125604  14.171751  12.0  21.5  29.0  45.5   62.0",
            "text/html": "<div>\n<style scoped>\n    .dataframe tbody tr th:only-of-type {\n        vertical-align: middle;\n    }\n\n    .dataframe tbody tr th {\n        vertical-align: top;\n    }\n\n    .dataframe thead th {\n        text-align: right;\n    }\n</style>\n<table border=\"1\" class=\"dataframe\">\n  <thead>\n    <tr style=\"text-align: right;\">\n      <th></th>\n      <th>count</th>\n      <th>mean</th>\n      <th>std</th>\n      <th>min</th>\n      <th>25%</th>\n      <th>50%</th>\n      <th>75%</th>\n      <th>max</th>\n    </tr>\n  </thead>\n  <tbody>\n    <tr>\n      <th>Golf</th>\n      <td>207.0</td>\n      <td>48.632850</td>\n      <td>17.792234</td>\n      <td>24.0</td>\n      <td>34.0</td>\n      <td>47.0</td>\n      <td>59.0</td>\n      <td>100.0</td>\n    </tr>\n    <tr>\n      <th>Soccer</th>\n      <td>207.0</td>\n      <td>27.714976</td>\n      <td>9.206420</td>\n      <td>9.0</td>\n      <td>22.0</td>\n      <td>27.0</td>\n      <td>31.0</td>\n      <td>83.0</td>\n    </tr>\n    <tr>\n      <th>Tennis</th>\n      <td>207.0</td>\n      <td>13.183575</td>\n      <td>4.109558</td>\n      <td>6.0</td>\n      <td>10.0</td>\n      <td>12.0</td>\n      <td>16.0</td>\n      <td>27.0</td>\n    </tr>\n    <tr>\n      <th>Hockey</th>\n      <td>207.0</td>\n      <td>14.371981</td>\n      <td>5.969322</td>\n      <td>4.0</td>\n      <td>10.0</td>\n      <td>14.0</td>\n      <td>18.0</td>\n      <td>55.0</td>\n    </tr>\n    <tr>\n      <th>Baseball</th>\n      <td>207.0</td>\n      <td>33.125604</td>\n      <td>14.171751</td>\n      <td>12.0</td>\n      <td>21.5</td>\n      <td>29.0</td>\n      <td>45.5</td>\n      <td>62.0</td>\n    </tr>\n  </tbody>\n</table>\n</div>"
          },
          "metadata": {}
        }
      ]
    },
    {
      "cell_type": "code",
      "metadata": {
        "cell_id": "00007-c5d5841a-d643-4af9-b216-c7779a985619",
        "deepnote_to_be_reexecuted": false,
        "source_hash": "f17b302e",
        "execution_start": 1615166604967,
        "execution_millis": 8,
        "deepnote_cell_type": "code"
      },
      "source": "# Give you the unique values, excludes NaNs\nsports['Golf'].unique()",
      "execution_count": 8,
      "outputs": [
        {
          "output_type": "execute_result",
          "execution_count": 8,
          "data": {
            "text/plain": "array([ 45,  49,  64,  81,  82, 100,  93,  85,  66,  48,  40,  51,  63,\n        97,  92,  86,  42,  44,  47,  57,  79,  78,  90,  89,  41,  56,\n        71,  77,  62,  46,  35,  36,  39,  43,  52,  70,  75,  38,  31,\n        33,  73,  67,  37,  32,  29,  60,  61,  59,  27,  30,  34,  58,\n        55,  25,  26,  54,  53,  24,  28,  50])"
          },
          "metadata": {}
        }
      ]
    },
    {
      "cell_type": "code",
      "metadata": {
        "cell_id": "00008-3075b123-3675-4ffd-9894-219990d23b85",
        "deepnote_to_be_reexecuted": false,
        "source_hash": "aa1df09e",
        "execution_start": 1615166604972,
        "execution_millis": 10,
        "deepnote_cell_type": "code"
      },
      "source": "# Minimum values\nsports.min()",
      "execution_count": 9,
      "outputs": [
        {
          "output_type": "execute_result",
          "execution_count": 9,
          "data": {
            "text/plain": "Golf        24\nSoccer       9\nTennis       6\nHockey       4\nBaseball    12\ndtype: int64"
          },
          "metadata": {}
        }
      ]
    },
    {
      "cell_type": "code",
      "metadata": {
        "cell_id": "00009-797d8587-159b-460e-b422-a1e500a83c87",
        "deepnote_to_be_reexecuted": false,
        "source_hash": "599e1a6a",
        "execution_start": 1615166604979,
        "execution_millis": 11,
        "deepnote_cell_type": "code"
      },
      "source": "# Maximum values\nsports.max()",
      "execution_count": 10,
      "outputs": [
        {
          "output_type": "execute_result",
          "execution_count": 10,
          "data": {
            "text/plain": "Golf        100\nSoccer       83\nTennis       27\nHockey       55\nBaseball     62\ndtype: int64"
          },
          "metadata": {}
        }
      ]
    },
    {
      "cell_type": "markdown",
      "source": "### Measures of Central Tendency",
      "metadata": {
        "cell_id": "00010-3f537581-6f76-424f-becb-0ceeda16cd22",
        "deepnote_cell_type": "markdown"
      }
    },
    {
      "cell_type": "code",
      "metadata": {
        "cell_id": "00011-b1b05970-d5eb-4793-855b-d25f9bf729e3",
        "deepnote_to_be_reexecuted": false,
        "source_hash": "250180e0",
        "execution_start": 1615166605004,
        "execution_millis": 10,
        "deepnote_cell_type": "code"
      },
      "source": "# Mean is the average value of the data set.  It represents the typical value.\nsports.mean()",
      "execution_count": 11,
      "outputs": [
        {
          "output_type": "execute_result",
          "execution_count": 11,
          "data": {
            "text/plain": "Golf        48.632850\nSoccer      27.714976\nTennis      13.183575\nHockey      14.371981\nBaseball    33.125604\ndtype: float64"
          },
          "metadata": {}
        }
      ]
    },
    {
      "cell_type": "code",
      "metadata": {
        "cell_id": "00012-d2a43c8b-66ff-4a59-854e-4dc1abdb9349",
        "deepnote_to_be_reexecuted": false,
        "source_hash": "397d34f",
        "execution_start": 1615166605005,
        "execution_millis": 10,
        "deepnote_cell_type": "code"
      },
      "source": "# Median value is the middle value after you reorganize the data set in ascending order.\n# If there are an even number of observations, then we take the average of the 2 middle values.\nsports.median()",
      "execution_count": 12,
      "outputs": [
        {
          "output_type": "execute_result",
          "execution_count": 12,
          "data": {
            "text/plain": "Golf        47.0\nSoccer      27.0\nTennis      12.0\nHockey      14.0\nBaseball    29.0\ndtype: float64"
          },
          "metadata": {}
        }
      ]
    },
    {
      "cell_type": "code",
      "metadata": {
        "cell_id": "00013-9acdb382-38ca-4cc7-9689-ca503d2595b6",
        "deepnote_to_be_reexecuted": false,
        "source_hash": "4226dfd2",
        "execution_start": 1615166605005,
        "execution_millis": 10,
        "deepnote_cell_type": "code"
      },
      "source": "# Mode is defined as the value most frequent in our data\n# If a value appears repeatedly in the data, it will influence the average\n# towards that frequent value\n# Modal value is like a highly weighted contributing factor for the mean value\nsports['Golf'].mode()",
      "execution_count": 13,
      "outputs": [
        {
          "output_type": "execute_result",
          "execution_count": 13,
          "data": {
            "text/plain": "0    29\ndtype: int64"
          },
          "metadata": {}
        }
      ]
    },
    {
      "cell_type": "code",
      "metadata": {
        "cell_id": "00014-d202888e-4f41-4bc8-9941-b2756e67a4b1",
        "deepnote_to_be_reexecuted": false,
        "source_hash": "bc2be6d2",
        "execution_start": 1615166605007,
        "execution_millis": 10,
        "deepnote_cell_type": "code"
      },
      "source": "sports['Tennis'].mode()",
      "execution_count": 14,
      "outputs": [
        {
          "output_type": "execute_result",
          "execution_count": 14,
          "data": {
            "text/plain": "0    12\ndtype: int64"
          },
          "metadata": {}
        }
      ]
    },
    {
      "cell_type": "markdown",
      "source": "### Ranges and Percentiles",
      "metadata": {
        "cell_id": "00015-b257a1bc-6da3-48cd-82ed-92bbfede74a7",
        "deepnote_cell_type": "markdown"
      }
    },
    {
      "cell_type": "code",
      "metadata": {
        "cell_id": "00016-8814f0a1-79da-4dcd-909c-7f2469428a4a",
        "deepnote_to_be_reexecuted": false,
        "source_hash": "da91d6d4",
        "execution_start": 1615166605012,
        "execution_millis": 8,
        "deepnote_cell_type": "code"
      },
      "source": "# Range is one indicator of spread\n# To calculate range, you subtract the smallest value from the largest value\nrange = sports.max() - sports.min()\nrange",
      "execution_count": 15,
      "outputs": [
        {
          "output_type": "execute_result",
          "execution_count": 15,
          "data": {
            "text/plain": "Golf        76\nSoccer      74\nTennis      21\nHockey      51\nBaseball    50\ndtype: int64"
          },
          "metadata": {}
        }
      ]
    },
    {
      "cell_type": "code",
      "metadata": {
        "cell_id": "00017-30e5b043-d8f4-48ca-b0d5-109fd178b24e",
        "deepnote_to_be_reexecuted": false,
        "source_hash": "20e9735",
        "execution_start": 1615166605049,
        "execution_millis": 9,
        "deepnote_cell_type": "code"
      },
      "source": "# Percentile values in summary, include 10% and 90%\nsports.describe(percentiles=[.1, .25, .5, .75, .9])",
      "execution_count": 16,
      "outputs": [
        {
          "output_type": "execute_result",
          "execution_count": 16,
          "data": {
            "application/vnd.deepnote.dataframe.v2+json": {
              "row_count": 10,
              "column_count": 5,
              "columns": [
                {
                  "name": "Golf",
                  "dtype": "float64",
                  "stats": {
                    "unique_count": 10,
                    "nan_count": 0,
                    "min": 17.792233581461023,
                    "max": 207,
                    "histogram": [
                      {
                        "bin_start": 17.792233581461023,
                        "bin_end": 36.713010223314924,
                        "count": 4
                      },
                      {
                        "bin_start": 36.713010223314924,
                        "bin_end": 55.633786865168815,
                        "count": 2
                      },
                      {
                        "bin_start": 55.633786865168815,
                        "bin_end": 74.55456350702272,
                        "count": 1
                      },
                      {
                        "bin_start": 74.55456350702272,
                        "bin_end": 93.47534014887661,
                        "count": 1
                      },
                      {
                        "bin_start": 93.47534014887661,
                        "bin_end": 112.39611679073052,
                        "count": 1
                      },
                      {
                        "bin_start": 112.39611679073052,
                        "bin_end": 131.3168934325844,
                        "count": 0
                      },
                      {
                        "bin_start": 131.3168934325844,
                        "bin_end": 150.2376700744383,
                        "count": 0
                      },
                      {
                        "bin_start": 150.2376700744383,
                        "bin_end": 169.15844671629222,
                        "count": 0
                      },
                      {
                        "bin_start": 169.15844671629222,
                        "bin_end": 188.07922335814612,
                        "count": 0
                      },
                      {
                        "bin_start": 188.07922335814612,
                        "bin_end": 207,
                        "count": 1
                      }
                    ]
                  }
                },
                {
                  "name": "Soccer",
                  "dtype": "float64",
                  "stats": {
                    "unique_count": 10,
                    "nan_count": 0,
                    "min": 9,
                    "max": 207,
                    "histogram": [
                      {
                        "bin_start": 9,
                        "bin_end": 28.8,
                        "count": 6
                      },
                      {
                        "bin_start": 28.8,
                        "bin_end": 48.6,
                        "count": 2
                      },
                      {
                        "bin_start": 48.6,
                        "bin_end": 68.4,
                        "count": 0
                      },
                      {
                        "bin_start": 68.4,
                        "bin_end": 88.2,
                        "count": 1
                      },
                      {
                        "bin_start": 88.2,
                        "bin_end": 108,
                        "count": 0
                      },
                      {
                        "bin_start": 108,
                        "bin_end": 127.80000000000001,
                        "count": 0
                      },
                      {
                        "bin_start": 127.80000000000001,
                        "bin_end": 147.6,
                        "count": 0
                      },
                      {
                        "bin_start": 147.6,
                        "bin_end": 167.4,
                        "count": 0
                      },
                      {
                        "bin_start": 167.4,
                        "bin_end": 187.20000000000002,
                        "count": 0
                      },
                      {
                        "bin_start": 187.20000000000002,
                        "bin_end": 207,
                        "count": 1
                      }
                    ]
                  }
                },
                {
                  "name": "Tennis",
                  "dtype": "float64",
                  "stats": {
                    "unique_count": 10,
                    "nan_count": 0,
                    "min": 4.1095579774291195,
                    "max": 207,
                    "histogram": [
                      {
                        "bin_start": 4.1095579774291195,
                        "bin_end": 24.398602179686208,
                        "count": 8
                      },
                      {
                        "bin_start": 24.398602179686208,
                        "bin_end": 44.687646381943296,
                        "count": 1
                      },
                      {
                        "bin_start": 44.687646381943296,
                        "bin_end": 64.97669058420038,
                        "count": 0
                      },
                      {
                        "bin_start": 64.97669058420038,
                        "bin_end": 85.26573478645747,
                        "count": 0
                      },
                      {
                        "bin_start": 85.26573478645747,
                        "bin_end": 105.55477898871456,
                        "count": 0
                      },
                      {
                        "bin_start": 105.55477898871456,
                        "bin_end": 125.84382319097165,
                        "count": 0
                      },
                      {
                        "bin_start": 125.84382319097165,
                        "bin_end": 146.13286739322874,
                        "count": 0
                      },
                      {
                        "bin_start": 146.13286739322874,
                        "bin_end": 166.42191159548582,
                        "count": 0
                      },
                      {
                        "bin_start": 166.42191159548582,
                        "bin_end": 186.7109557977429,
                        "count": 0
                      },
                      {
                        "bin_start": 186.7109557977429,
                        "bin_end": 207,
                        "count": 1
                      }
                    ]
                  }
                },
                {
                  "name": "Hockey",
                  "dtype": "float64",
                  "stats": {
                    "unique_count": 10,
                    "nan_count": 0,
                    "min": 4,
                    "max": 207,
                    "histogram": [
                      {
                        "bin_start": 4,
                        "bin_end": 24.3,
                        "count": 8
                      },
                      {
                        "bin_start": 24.3,
                        "bin_end": 44.6,
                        "count": 0
                      },
                      {
                        "bin_start": 44.6,
                        "bin_end": 64.9,
                        "count": 1
                      },
                      {
                        "bin_start": 64.9,
                        "bin_end": 85.2,
                        "count": 0
                      },
                      {
                        "bin_start": 85.2,
                        "bin_end": 105.5,
                        "count": 0
                      },
                      {
                        "bin_start": 105.5,
                        "bin_end": 125.80000000000001,
                        "count": 0
                      },
                      {
                        "bin_start": 125.80000000000001,
                        "bin_end": 146.1,
                        "count": 0
                      },
                      {
                        "bin_start": 146.1,
                        "bin_end": 166.4,
                        "count": 0
                      },
                      {
                        "bin_start": 166.4,
                        "bin_end": 186.70000000000002,
                        "count": 0
                      },
                      {
                        "bin_start": 186.70000000000002,
                        "bin_end": 207,
                        "count": 1
                      }
                    ]
                  }
                },
                {
                  "name": "Baseball",
                  "dtype": "float64",
                  "stats": {
                    "unique_count": 10,
                    "nan_count": 0,
                    "min": 12,
                    "max": 207,
                    "histogram": [
                      {
                        "bin_start": 12,
                        "bin_end": 31.5,
                        "count": 5
                      },
                      {
                        "bin_start": 31.5,
                        "bin_end": 51,
                        "count": 2
                      },
                      {
                        "bin_start": 51,
                        "bin_end": 70.5,
                        "count": 2
                      },
                      {
                        "bin_start": 70.5,
                        "bin_end": 90,
                        "count": 0
                      },
                      {
                        "bin_start": 90,
                        "bin_end": 109.5,
                        "count": 0
                      },
                      {
                        "bin_start": 109.5,
                        "bin_end": 129,
                        "count": 0
                      },
                      {
                        "bin_start": 129,
                        "bin_end": 148.5,
                        "count": 0
                      },
                      {
                        "bin_start": 148.5,
                        "bin_end": 168,
                        "count": 0
                      },
                      {
                        "bin_start": 168,
                        "bin_end": 187.5,
                        "count": 0
                      },
                      {
                        "bin_start": 187.5,
                        "bin_end": 207,
                        "count": 1
                      }
                    ]
                  }
                },
                {
                  "name": "_deepnote_index_column",
                  "dtype": "object"
                }
              ],
              "rows_top": [
                {
                  "Golf": 207,
                  "Soccer": 207,
                  "Tennis": 207,
                  "Hockey": 207,
                  "Baseball": 207,
                  "_deepnote_index_column": "count"
                },
                {
                  "Golf": 48.632850241545896,
                  "Soccer": 27.714975845410628,
                  "Tennis": 13.183574879227054,
                  "Hockey": 14.371980676328503,
                  "Baseball": 33.1256038647343,
                  "_deepnote_index_column": "mean"
                },
                {
                  "Golf": 17.792233581461023,
                  "Soccer": 9.206420188845852,
                  "Tennis": 4.1095579774291195,
                  "Hockey": 5.969321849207882,
                  "Baseball": 14.171750633463475,
                  "_deepnote_index_column": "std"
                },
                {
                  "Golf": 24,
                  "Soccer": 9,
                  "Tennis": 6,
                  "Hockey": 4,
                  "Baseball": 12,
                  "_deepnote_index_column": "min"
                },
                {
                  "Golf": 28,
                  "Soccer": 18.6,
                  "Tennis": 8.600000000000001,
                  "Hockey": 8,
                  "Baseball": 16,
                  "_deepnote_index_column": "10%"
                },
                {
                  "Golf": 34,
                  "Soccer": 22,
                  "Tennis": 10,
                  "Hockey": 10,
                  "Baseball": 21.5,
                  "_deepnote_index_column": "25%"
                },
                {
                  "Golf": 47,
                  "Soccer": 27,
                  "Tennis": 12,
                  "Hockey": 14,
                  "Baseball": 29,
                  "_deepnote_index_column": "50%"
                },
                {
                  "Golf": 59,
                  "Soccer": 31,
                  "Tennis": 16,
                  "Hockey": 18,
                  "Baseball": 45.5,
                  "_deepnote_index_column": "75%"
                },
                {
                  "Golf": 75.80000000000001,
                  "Soccer": 36,
                  "Tennis": 19,
                  "Hockey": 20,
                  "Baseball": 54.400000000000006,
                  "_deepnote_index_column": "90%"
                },
                {
                  "Golf": 100,
                  "Soccer": 83,
                  "Tennis": 27,
                  "Hockey": 55,
                  "Baseball": 62,
                  "_deepnote_index_column": "max"
                }
              ],
              "rows_bottom": null
            },
            "text/plain": "             Golf      Soccer      Tennis      Hockey    Baseball\ncount  207.000000  207.000000  207.000000  207.000000  207.000000\nmean    48.632850   27.714976   13.183575   14.371981   33.125604\nstd     17.792234    9.206420    4.109558    5.969322   14.171751\nmin     24.000000    9.000000    6.000000    4.000000   12.000000\n10%     28.000000   18.600000    8.600000    8.000000   16.000000\n25%     34.000000   22.000000   10.000000   10.000000   21.500000\n50%     47.000000   27.000000   12.000000   14.000000   29.000000\n75%     59.000000   31.000000   16.000000   18.000000   45.500000\n90%     75.800000   36.000000   19.000000   20.000000   54.400000\nmax    100.000000   83.000000   27.000000   55.000000   62.000000",
            "text/html": "<div>\n<style scoped>\n    .dataframe tbody tr th:only-of-type {\n        vertical-align: middle;\n    }\n\n    .dataframe tbody tr th {\n        vertical-align: top;\n    }\n\n    .dataframe thead th {\n        text-align: right;\n    }\n</style>\n<table border=\"1\" class=\"dataframe\">\n  <thead>\n    <tr style=\"text-align: right;\">\n      <th></th>\n      <th>Golf</th>\n      <th>Soccer</th>\n      <th>Tennis</th>\n      <th>Hockey</th>\n      <th>Baseball</th>\n    </tr>\n  </thead>\n  <tbody>\n    <tr>\n      <th>count</th>\n      <td>207.000000</td>\n      <td>207.000000</td>\n      <td>207.000000</td>\n      <td>207.000000</td>\n      <td>207.000000</td>\n    </tr>\n    <tr>\n      <th>mean</th>\n      <td>48.632850</td>\n      <td>27.714976</td>\n      <td>13.183575</td>\n      <td>14.371981</td>\n      <td>33.125604</td>\n    </tr>\n    <tr>\n      <th>std</th>\n      <td>17.792234</td>\n      <td>9.206420</td>\n      <td>4.109558</td>\n      <td>5.969322</td>\n      <td>14.171751</td>\n    </tr>\n    <tr>\n      <th>min</th>\n      <td>24.000000</td>\n      <td>9.000000</td>\n      <td>6.000000</td>\n      <td>4.000000</td>\n      <td>12.000000</td>\n    </tr>\n    <tr>\n      <th>10%</th>\n      <td>28.000000</td>\n      <td>18.600000</td>\n      <td>8.600000</td>\n      <td>8.000000</td>\n      <td>16.000000</td>\n    </tr>\n    <tr>\n      <th>25%</th>\n      <td>34.000000</td>\n      <td>22.000000</td>\n      <td>10.000000</td>\n      <td>10.000000</td>\n      <td>21.500000</td>\n    </tr>\n    <tr>\n      <th>50%</th>\n      <td>47.000000</td>\n      <td>27.000000</td>\n      <td>12.000000</td>\n      <td>14.000000</td>\n      <td>29.000000</td>\n    </tr>\n    <tr>\n      <th>75%</th>\n      <td>59.000000</td>\n      <td>31.000000</td>\n      <td>16.000000</td>\n      <td>18.000000</td>\n      <td>45.500000</td>\n    </tr>\n    <tr>\n      <th>90%</th>\n      <td>75.800000</td>\n      <td>36.000000</td>\n      <td>19.000000</td>\n      <td>20.000000</td>\n      <td>54.400000</td>\n    </tr>\n    <tr>\n      <th>max</th>\n      <td>100.000000</td>\n      <td>83.000000</td>\n      <td>27.000000</td>\n      <td>55.000000</td>\n      <td>62.000000</td>\n    </tr>\n  </tbody>\n</table>\n</div>"
          },
          "metadata": {}
        }
      ]
    },
    {
      "cell_type": "code",
      "metadata": {
        "cell_id": "00018-4e094b91-da48-431c-888f-18e312a0013e",
        "deepnote_to_be_reexecuted": false,
        "source_hash": "c806a478",
        "execution_start": 1615166605097,
        "execution_millis": 362,
        "deepnote_cell_type": "code"
      },
      "source": "from scipy.stats import iqr\n\n# Calculate Interquartile Range (IQR), 75% - 25%\nIQR = iqr(sports['Golf'])\nIQR",
      "execution_count": 17,
      "outputs": [
        {
          "output_type": "execute_result",
          "execution_count": 17,
          "data": {
            "text/plain": "25.0"
          },
          "metadata": {}
        }
      ]
    },
    {
      "cell_type": "markdown",
      "source": "### Measures of Spread",
      "metadata": {
        "cell_id": "00019-dde949c9-6a13-4a66-916a-0f05a96dd342",
        "deepnote_cell_type": "markdown"
      }
    },
    {
      "cell_type": "code",
      "metadata": {
        "cell_id": "00020-3e0b7a29-d896-433a-99db-7f46f9deefde",
        "deepnote_to_be_reexecuted": false,
        "source_hash": "cb4bc347",
        "execution_start": 1615166605461,
        "execution_millis": 6,
        "deepnote_cell_type": "code"
      },
      "source": "# Standard deviation tells you how much your data point deviates from the mean.\n# Standard deviation is a measure of spread. It has the same units as your data. \n# How to calculate standard deviation\n\n# step 1:  For each observations, subtract away the mean value\ndiff = sports['Golf'] - sports['Golf'].mean()\n\n# step 2: Square each difference\nsquare_diff = diff**2\n\n# step 3: Sum up all of these squared differences\nsum_squared = square_diff.sum()\n\n# step 4: Divide sum by the total number of observations minus 1\ntotal_divided = sum_squared/(191 - 1)\n\n# step 5: Square root of the result\nsquareroot_result = total_divided**0.5\n\n# standard deviation, units are the same as the original data\nsquareroot_result",
      "execution_count": 18,
      "outputs": [
        {
          "output_type": "execute_result",
          "execution_count": 18,
          "data": {
            "text/plain": "18.52623980059769"
          },
          "metadata": {}
        }
      ]
    },
    {
      "cell_type": "code",
      "metadata": {
        "cell_id": "00021-90304658-8862-4bb1-99b6-8ad0215c0d4e",
        "deepnote_to_be_reexecuted": false,
        "source_hash": "b18aa827",
        "execution_start": 1615166605470,
        "execution_millis": 10,
        "deepnote_cell_type": "code"
      },
      "source": "# Variance is a measure of spread, similar to standard deviation.\n# To calculate variance, take steps 1-4 from standard deviation\n# Units are interpreted in terms of squared units, which is not easy to understand or to interpret\n# How to calculate variance\n\n# step 1:  For each observations, subtract away the mean value\ndiff = sports['Golf'] - sports['Golf'].mean()\n\n# step 2: Square each difference\nsquare_diff = diff**2\n\n# step 3: Sum up all of these squared differences\nsum_squared = square_diff.sum()\n\n# step 4: Divide sum by the total number of observations minus 1\nvariance = sum_squared/(191 - 1)\n\nprint(variance)",
      "execution_count": 19,
      "outputs": [
        {
          "name": "stdout",
          "text": "343.22156114924996\n",
          "output_type": "stream"
        }
      ]
    },
    {
      "cell_type": "code",
      "metadata": {
        "cell_id": "00022-39b75435-a514-4116-9ea7-e4538bc748a6",
        "deepnote_to_be_reexecuted": false,
        "source_hash": "b623e53d",
        "execution_start": 1615166605474,
        "execution_millis": 0,
        "deepnote_cell_type": "code"
      },
      "source": "",
      "execution_count": 19,
      "outputs": []
    },
    {
      "cell_type": "code",
      "metadata": {
        "cell_id": "00023-2fd8d13c-cffb-4a25-b4e3-ad4ab0deb337",
        "deepnote_to_be_reexecuted": false,
        "source_hash": "b02418c1",
        "execution_start": 1615166605521,
        "execution_millis": 0,
        "deepnote_cell_type": "code"
      },
      "source": "# end",
      "execution_count": 20,
      "outputs": []
    },
    {
      "cell_type": "code",
      "metadata": {
        "cell_id": "00024-86d5b099-31b2-44ce-8cd7-191ea67291d7",
        "deepnote_to_be_reexecuted": false,
        "source_hash": "b623e53d",
        "execution_start": 1615166605522,
        "deepnote_cell_type": "code"
      },
      "source": "",
      "execution_count": 20,
      "outputs": []
    },
    {
      "cell_type": "markdown",
      "source": "<a style='text-decoration:none;line-height:16px;display:flex;color:#5B5B62;padding:10px;justify-content:end;' href='https://deepnote.com?utm_source=created-in-deepnote-cell&projectId=0be58e23-60c5-40af-9cb7-633ba8900837' target=\"_blank\">\n<img style='display:inline;max-height:16px;margin:0px;margin-right:7.5px;' src='data:image/svg+xml;base64,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' > </img>\nCreated in <span style='font-weight:600;margin-left:4px;'>Deepnote</span></a>",
      "metadata": {
        "tags": [],
        "created_in_deepnote_cell": true,
        "deepnote_cell_type": "markdown"
      }
    }
  ],
  "nbformat": 4,
  "nbformat_minor": 2,
  "metadata": {
    "kernelspec": {
      "display_name": "Python 3",
      "language": "python",
      "name": "python3"
    },
    "language_info": {
      "codemirror_mode": {
        "name": "ipython",
        "version": 3
      },
      "file_extension": ".py",
      "mimetype": "text/x-python",
      "name": "python",
      "nbconvert_exporter": "python",
      "pygments_lexer": "ipython3",
      "version": "3.8.3"
    },
    "deepnote_notebook_id": "604fabaa-1a56-43fb-9d40-f77e612d6cb2",
    "deepnote": {},
    "deepnote_execution_queue": []
  }
}