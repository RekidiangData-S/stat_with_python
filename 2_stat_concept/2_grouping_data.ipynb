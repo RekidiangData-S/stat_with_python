{
  "cells": [
    {
      "cell_type": "markdown",
      "source": "# Grouping data",
      "metadata": {
        "cell_id": "00000-0afad496-cadf-4f96-831d-92a62283c0c6",
        "deepnote_cell_type": "markdown"
      }
    },
    {
      "cell_type": "markdown",
      "source": "In a groupby, you are splitting a dataset according to one column by group.  We will look at the split-appy-combine approach when using groupby.",
      "metadata": {
        "cell_id": "00001-2134fb0f-61c2-4a03-86db-23293bd68f81",
        "deepnote_cell_type": "markdown"
      }
    },
    {
      "cell_type": "code",
      "metadata": {
        "cell_id": "00002-0691f762-2f68-4e2a-9b60-db3e1f27f3b2",
        "deepnote_cell_type": "code"
      },
      "source": "import pandas as pd",
      "execution_count": 1,
      "outputs": []
    },
    {
      "cell_type": "code",
      "metadata": {
        "cell_id": "00003-93f54743-9b3d-468e-8f4f-b3560a5ae758",
        "deepnote_cell_type": "code"
      },
      "source": "# A hypothetical data set with game scores for 3 teams\n\ndict1 = {'team': ['phoenix', 'hawks', 'cardinals', 'phoenix', 'hawks', 'cardinals','phoenix', 'hawks', 'cardinals', 'phoenix', 'hawks', 'cardinals', 'phoenix', 'hawks', 'cardinals'],\n         'year': ['2000', '2000', '2000', '2001', '2001','2001', '2002', '2002', '2002', '2003', '2003', '2003', '2004', '2004', '2004'],\n         'game_1': [30, 41, 69, 76, 80, 56, 50, 100, 23, 55, 74, 39, 47, 64, 33],\n         'game_2': [36, 44, 67, 72, 83, 89, 97, 100, 24, 55, 75, 31, 100, 77, 42],\n         'game_3': [66, 34, 97, 82, 53, 98, 74, 0, 21, 58, 79, 39, 33, 44, 57],\n         'game_4': [52, 98, 23, 63, 55, 21, 99, 78, 91, 34, 93, 28, 63, 91, 9]}",
      "execution_count": 2,
      "outputs": []
    },
    {
      "cell_type": "code",
      "metadata": {
        "cell_id": "00004-9fbdaa5f-f02d-4f1d-8b10-9f2b268bd980",
        "deepnote_cell_type": "code"
      },
      "source": "# create pandas dataframe\ndf = pd.DataFrame(dict1)\ndf",
      "execution_count": 3,
      "outputs": [
        {
          "data": {
            "text/html": "<div>\n<style scoped>\n    .dataframe tbody tr th:only-of-type {\n        vertical-align: middle;\n    }\n\n    .dataframe tbody tr th {\n        vertical-align: top;\n    }\n\n    .dataframe thead th {\n        text-align: right;\n    }\n</style>\n<table border=\"1\" class=\"dataframe\">\n  <thead>\n    <tr style=\"text-align: right;\">\n      <th></th>\n      <th>team</th>\n      <th>year</th>\n      <th>game_1</th>\n      <th>game_2</th>\n      <th>game_3</th>\n      <th>game_4</th>\n    </tr>\n  </thead>\n  <tbody>\n    <tr>\n      <td>0</td>\n      <td>phoenix</td>\n      <td>2000</td>\n      <td>30</td>\n      <td>36</td>\n      <td>66</td>\n      <td>52</td>\n    </tr>\n    <tr>\n      <td>1</td>\n      <td>hawks</td>\n      <td>2000</td>\n      <td>41</td>\n      <td>44</td>\n      <td>34</td>\n      <td>98</td>\n    </tr>\n    <tr>\n      <td>2</td>\n      <td>cardinals</td>\n      <td>2000</td>\n      <td>69</td>\n      <td>67</td>\n      <td>97</td>\n      <td>23</td>\n    </tr>\n    <tr>\n      <td>3</td>\n      <td>phoenix</td>\n      <td>2001</td>\n      <td>76</td>\n      <td>72</td>\n      <td>82</td>\n      <td>63</td>\n    </tr>\n    <tr>\n      <td>4</td>\n      <td>hawks</td>\n      <td>2001</td>\n      <td>80</td>\n      <td>83</td>\n      <td>53</td>\n      <td>55</td>\n    </tr>\n    <tr>\n      <td>5</td>\n      <td>cardinals</td>\n      <td>2001</td>\n      <td>56</td>\n      <td>89</td>\n      <td>98</td>\n      <td>21</td>\n    </tr>\n    <tr>\n      <td>6</td>\n      <td>phoenix</td>\n      <td>2002</td>\n      <td>50</td>\n      <td>97</td>\n      <td>74</td>\n      <td>99</td>\n    </tr>\n    <tr>\n      <td>7</td>\n      <td>hawks</td>\n      <td>2002</td>\n      <td>100</td>\n      <td>100</td>\n      <td>0</td>\n      <td>78</td>\n    </tr>\n    <tr>\n      <td>8</td>\n      <td>cardinals</td>\n      <td>2002</td>\n      <td>23</td>\n      <td>24</td>\n      <td>21</td>\n      <td>91</td>\n    </tr>\n    <tr>\n      <td>9</td>\n      <td>phoenix</td>\n      <td>2003</td>\n      <td>55</td>\n      <td>55</td>\n      <td>58</td>\n      <td>34</td>\n    </tr>\n    <tr>\n      <td>10</td>\n      <td>hawks</td>\n      <td>2003</td>\n      <td>74</td>\n      <td>75</td>\n      <td>79</td>\n      <td>93</td>\n    </tr>\n    <tr>\n      <td>11</td>\n      <td>cardinals</td>\n      <td>2003</td>\n      <td>39</td>\n      <td>31</td>\n      <td>39</td>\n      <td>28</td>\n    </tr>\n    <tr>\n      <td>12</td>\n      <td>phoenix</td>\n      <td>2004</td>\n      <td>47</td>\n      <td>100</td>\n      <td>33</td>\n      <td>63</td>\n    </tr>\n    <tr>\n      <td>13</td>\n      <td>hawks</td>\n      <td>2004</td>\n      <td>64</td>\n      <td>77</td>\n      <td>44</td>\n      <td>91</td>\n    </tr>\n    <tr>\n      <td>14</td>\n      <td>cardinals</td>\n      <td>2004</td>\n      <td>33</td>\n      <td>42</td>\n      <td>57</td>\n      <td>9</td>\n    </tr>\n  </tbody>\n</table>\n</div>",
            "text/plain": "         team  year  game_1  game_2  game_3  game_4\n0     phoenix  2000      30      36      66      52\n1       hawks  2000      41      44      34      98\n2   cardinals  2000      69      67      97      23\n3     phoenix  2001      76      72      82      63\n4       hawks  2001      80      83      53      55\n5   cardinals  2001      56      89      98      21\n6     phoenix  2002      50      97      74      99\n7       hawks  2002     100     100       0      78\n8   cardinals  2002      23      24      21      91\n9     phoenix  2003      55      55      58      34\n10      hawks  2003      74      75      79      93\n11  cardinals  2003      39      31      39      28\n12    phoenix  2004      47     100      33      63\n13      hawks  2004      64      77      44      91\n14  cardinals  2004      33      42      57       9"
          },
          "execution_count": 3,
          "metadata": {},
          "output_type": "execute_result"
        }
      ]
    },
    {
      "cell_type": "markdown",
      "source": "### Split",
      "metadata": {
        "cell_id": "00005-ef321be8-bea7-43ae-8a23-3cc9d2b5ceb8",
        "deepnote_cell_type": "markdown"
      }
    },
    {
      "cell_type": "code",
      "metadata": {
        "cell_id": "00006-131252ca-1502-4e56-a4f5-c0a75abd0ed8",
        "deepnote_cell_type": "code"
      },
      "source": "# split the data into groups and then perform an operation\ndf.groupby('year').sum()",
      "execution_count": 4,
      "outputs": [
        {
          "data": {
            "text/html": "<div>\n<style scoped>\n    .dataframe tbody tr th:only-of-type {\n        vertical-align: middle;\n    }\n\n    .dataframe tbody tr th {\n        vertical-align: top;\n    }\n\n    .dataframe thead th {\n        text-align: right;\n    }\n</style>\n<table border=\"1\" class=\"dataframe\">\n  <thead>\n    <tr style=\"text-align: right;\">\n      <th></th>\n      <th>game_1</th>\n      <th>game_2</th>\n      <th>game_3</th>\n      <th>game_4</th>\n    </tr>\n    <tr>\n      <th>year</th>\n      <th></th>\n      <th></th>\n      <th></th>\n      <th></th>\n    </tr>\n  </thead>\n  <tbody>\n    <tr>\n      <td>2000</td>\n      <td>140</td>\n      <td>147</td>\n      <td>197</td>\n      <td>173</td>\n    </tr>\n    <tr>\n      <td>2001</td>\n      <td>212</td>\n      <td>244</td>\n      <td>233</td>\n      <td>139</td>\n    </tr>\n    <tr>\n      <td>2002</td>\n      <td>173</td>\n      <td>221</td>\n      <td>95</td>\n      <td>268</td>\n    </tr>\n    <tr>\n      <td>2003</td>\n      <td>168</td>\n      <td>161</td>\n      <td>176</td>\n      <td>155</td>\n    </tr>\n    <tr>\n      <td>2004</td>\n      <td>144</td>\n      <td>219</td>\n      <td>134</td>\n      <td>163</td>\n    </tr>\n  </tbody>\n</table>\n</div>",
            "text/plain": "      game_1  game_2  game_3  game_4\nyear                                \n2000     140     147     197     173\n2001     212     244     233     139\n2002     173     221      95     268\n2003     168     161     176     155\n2004     144     219     134     163"
          },
          "execution_count": 4,
          "metadata": {},
          "output_type": "execute_result"
        }
      ]
    },
    {
      "cell_type": "code",
      "metadata": {
        "cell_id": "00007-76a4c7e3-ec74-4ad9-8b85-135d1738f333",
        "deepnote_cell_type": "code"
      },
      "source": "# with one column specified, you will get back a series\ndf.groupby('team')['game_3'].sum()",
      "execution_count": 5,
      "outputs": [
        {
          "data": {
            "text/plain": "team\ncardinals    312\nhawks        210\nphoenix      313\nName: game_3, dtype: int64"
          },
          "execution_count": 5,
          "metadata": {},
          "output_type": "execute_result"
        }
      ]
    },
    {
      "cell_type": "code",
      "metadata": {
        "cell_id": "00008-cb5590c9-5052-497a-840b-44f1fcbcf124",
        "deepnote_cell_type": "code"
      },
      "source": "# double bracket will give you a format in dataframe\ndf.groupby('team')[['game_3']].sum()",
      "execution_count": 6,
      "outputs": [
        {
          "data": {
            "text/html": "<div>\n<style scoped>\n    .dataframe tbody tr th:only-of-type {\n        vertical-align: middle;\n    }\n\n    .dataframe tbody tr th {\n        vertical-align: top;\n    }\n\n    .dataframe thead th {\n        text-align: right;\n    }\n</style>\n<table border=\"1\" class=\"dataframe\">\n  <thead>\n    <tr style=\"text-align: right;\">\n      <th></th>\n      <th>game_3</th>\n    </tr>\n    <tr>\n      <th>team</th>\n      <th></th>\n    </tr>\n  </thead>\n  <tbody>\n    <tr>\n      <td>cardinals</td>\n      <td>312</td>\n    </tr>\n    <tr>\n      <td>hawks</td>\n      <td>210</td>\n    </tr>\n    <tr>\n      <td>phoenix</td>\n      <td>313</td>\n    </tr>\n  </tbody>\n</table>\n</div>",
            "text/plain": "           game_3\nteam             \ncardinals     312\nhawks         210\nphoenix       313"
          },
          "execution_count": 6,
          "metadata": {},
          "output_type": "execute_result"
        }
      ]
    },
    {
      "cell_type": "code",
      "metadata": {
        "cell_id": "00009-beab2fb7-bdc5-44b1-93ea-94957902803a",
        "deepnote_cell_type": "code"
      },
      "source": "# Create two groups, resulting in a MultiIndex object as the index\ndf_multi = df.groupby(['year', 'team']).sum()\ndf_multi",
      "execution_count": 7,
      "outputs": [
        {
          "data": {
            "text/html": "<div>\n<style scoped>\n    .dataframe tbody tr th:only-of-type {\n        vertical-align: middle;\n    }\n\n    .dataframe tbody tr th {\n        vertical-align: top;\n    }\n\n    .dataframe thead th {\n        text-align: right;\n    }\n</style>\n<table border=\"1\" class=\"dataframe\">\n  <thead>\n    <tr style=\"text-align: right;\">\n      <th></th>\n      <th></th>\n      <th>game_1</th>\n      <th>game_2</th>\n      <th>game_3</th>\n      <th>game_4</th>\n    </tr>\n    <tr>\n      <th>year</th>\n      <th>team</th>\n      <th></th>\n      <th></th>\n      <th></th>\n      <th></th>\n    </tr>\n  </thead>\n  <tbody>\n    <tr>\n      <td rowspan=\"3\" valign=\"top\">2000</td>\n      <td>cardinals</td>\n      <td>69</td>\n      <td>67</td>\n      <td>97</td>\n      <td>23</td>\n    </tr>\n    <tr>\n      <td>hawks</td>\n      <td>41</td>\n      <td>44</td>\n      <td>34</td>\n      <td>98</td>\n    </tr>\n    <tr>\n      <td>phoenix</td>\n      <td>30</td>\n      <td>36</td>\n      <td>66</td>\n      <td>52</td>\n    </tr>\n    <tr>\n      <td rowspan=\"3\" valign=\"top\">2001</td>\n      <td>cardinals</td>\n      <td>56</td>\n      <td>89</td>\n      <td>98</td>\n      <td>21</td>\n    </tr>\n    <tr>\n      <td>hawks</td>\n      <td>80</td>\n      <td>83</td>\n      <td>53</td>\n      <td>55</td>\n    </tr>\n    <tr>\n      <td>phoenix</td>\n      <td>76</td>\n      <td>72</td>\n      <td>82</td>\n      <td>63</td>\n    </tr>\n    <tr>\n      <td rowspan=\"3\" valign=\"top\">2002</td>\n      <td>cardinals</td>\n      <td>23</td>\n      <td>24</td>\n      <td>21</td>\n      <td>91</td>\n    </tr>\n    <tr>\n      <td>hawks</td>\n      <td>100</td>\n      <td>100</td>\n      <td>0</td>\n      <td>78</td>\n    </tr>\n    <tr>\n      <td>phoenix</td>\n      <td>50</td>\n      <td>97</td>\n      <td>74</td>\n      <td>99</td>\n    </tr>\n    <tr>\n      <td rowspan=\"3\" valign=\"top\">2003</td>\n      <td>cardinals</td>\n      <td>39</td>\n      <td>31</td>\n      <td>39</td>\n      <td>28</td>\n    </tr>\n    <tr>\n      <td>hawks</td>\n      <td>74</td>\n      <td>75</td>\n      <td>79</td>\n      <td>93</td>\n    </tr>\n    <tr>\n      <td>phoenix</td>\n      <td>55</td>\n      <td>55</td>\n      <td>58</td>\n      <td>34</td>\n    </tr>\n    <tr>\n      <td rowspan=\"3\" valign=\"top\">2004</td>\n      <td>cardinals</td>\n      <td>33</td>\n      <td>42</td>\n      <td>57</td>\n      <td>9</td>\n    </tr>\n    <tr>\n      <td>hawks</td>\n      <td>64</td>\n      <td>77</td>\n      <td>44</td>\n      <td>91</td>\n    </tr>\n    <tr>\n      <td>phoenix</td>\n      <td>47</td>\n      <td>100</td>\n      <td>33</td>\n      <td>63</td>\n    </tr>\n  </tbody>\n</table>\n</div>",
            "text/plain": "                game_1  game_2  game_3  game_4\nyear team                                     \n2000 cardinals      69      67      97      23\n     hawks          41      44      34      98\n     phoenix        30      36      66      52\n2001 cardinals      56      89      98      21\n     hawks          80      83      53      55\n     phoenix        76      72      82      63\n2002 cardinals      23      24      21      91\n     hawks         100     100       0      78\n     phoenix        50      97      74      99\n2003 cardinals      39      31      39      28\n     hawks          74      75      79      93\n     phoenix        55      55      58      34\n2004 cardinals      33      42      57       9\n     hawks          64      77      44      91\n     phoenix        47     100      33      63"
          },
          "execution_count": 7,
          "metadata": {},
          "output_type": "execute_result"
        }
      ]
    },
    {
      "cell_type": "code",
      "metadata": {
        "cell_id": "00010-fd501d09-7736-440f-b0c2-398ac2eca620",
        "deepnote_cell_type": "code"
      },
      "source": "# Select subsets of the dataframe by selecting a value and then a particular index level\ndf_multi.xs('2004', level='year')",
      "execution_count": 8,
      "outputs": [
        {
          "data": {
            "text/html": "<div>\n<style scoped>\n    .dataframe tbody tr th:only-of-type {\n        vertical-align: middle;\n    }\n\n    .dataframe tbody tr th {\n        vertical-align: top;\n    }\n\n    .dataframe thead th {\n        text-align: right;\n    }\n</style>\n<table border=\"1\" class=\"dataframe\">\n  <thead>\n    <tr style=\"text-align: right;\">\n      <th></th>\n      <th>game_1</th>\n      <th>game_2</th>\n      <th>game_3</th>\n      <th>game_4</th>\n    </tr>\n    <tr>\n      <th>team</th>\n      <th></th>\n      <th></th>\n      <th></th>\n      <th></th>\n    </tr>\n  </thead>\n  <tbody>\n    <tr>\n      <td>cardinals</td>\n      <td>33</td>\n      <td>42</td>\n      <td>57</td>\n      <td>9</td>\n    </tr>\n    <tr>\n      <td>hawks</td>\n      <td>64</td>\n      <td>77</td>\n      <td>44</td>\n      <td>91</td>\n    </tr>\n    <tr>\n      <td>phoenix</td>\n      <td>47</td>\n      <td>100</td>\n      <td>33</td>\n      <td>63</td>\n    </tr>\n  </tbody>\n</table>\n</div>",
            "text/plain": "           game_1  game_2  game_3  game_4\nteam                                     \ncardinals      33      42      57       9\nhawks          64      77      44      91\nphoenix        47     100      33      63"
          },
          "execution_count": 8,
          "metadata": {},
          "output_type": "execute_result"
        }
      ]
    },
    {
      "cell_type": "code",
      "metadata": {
        "cell_id": "00011-2e1e9d31-11bb-4d19-8467-684e7b0efde3",
        "deepnote_cell_type": "code"
      },
      "source": "# to reset the index\ndf_multi.reset_index()",
      "execution_count": 9,
      "outputs": [
        {
          "data": {
            "text/html": "<div>\n<style scoped>\n    .dataframe tbody tr th:only-of-type {\n        vertical-align: middle;\n    }\n\n    .dataframe tbody tr th {\n        vertical-align: top;\n    }\n\n    .dataframe thead th {\n        text-align: right;\n    }\n</style>\n<table border=\"1\" class=\"dataframe\">\n  <thead>\n    <tr style=\"text-align: right;\">\n      <th></th>\n      <th>year</th>\n      <th>team</th>\n      <th>game_1</th>\n      <th>game_2</th>\n      <th>game_3</th>\n      <th>game_4</th>\n    </tr>\n  </thead>\n  <tbody>\n    <tr>\n      <td>0</td>\n      <td>2000</td>\n      <td>cardinals</td>\n      <td>69</td>\n      <td>67</td>\n      <td>97</td>\n      <td>23</td>\n    </tr>\n    <tr>\n      <td>1</td>\n      <td>2000</td>\n      <td>hawks</td>\n      <td>41</td>\n      <td>44</td>\n      <td>34</td>\n      <td>98</td>\n    </tr>\n    <tr>\n      <td>2</td>\n      <td>2000</td>\n      <td>phoenix</td>\n      <td>30</td>\n      <td>36</td>\n      <td>66</td>\n      <td>52</td>\n    </tr>\n    <tr>\n      <td>3</td>\n      <td>2001</td>\n      <td>cardinals</td>\n      <td>56</td>\n      <td>89</td>\n      <td>98</td>\n      <td>21</td>\n    </tr>\n    <tr>\n      <td>4</td>\n      <td>2001</td>\n      <td>hawks</td>\n      <td>80</td>\n      <td>83</td>\n      <td>53</td>\n      <td>55</td>\n    </tr>\n    <tr>\n      <td>5</td>\n      <td>2001</td>\n      <td>phoenix</td>\n      <td>76</td>\n      <td>72</td>\n      <td>82</td>\n      <td>63</td>\n    </tr>\n    <tr>\n      <td>6</td>\n      <td>2002</td>\n      <td>cardinals</td>\n      <td>23</td>\n      <td>24</td>\n      <td>21</td>\n      <td>91</td>\n    </tr>\n    <tr>\n      <td>7</td>\n      <td>2002</td>\n      <td>hawks</td>\n      <td>100</td>\n      <td>100</td>\n      <td>0</td>\n      <td>78</td>\n    </tr>\n    <tr>\n      <td>8</td>\n      <td>2002</td>\n      <td>phoenix</td>\n      <td>50</td>\n      <td>97</td>\n      <td>74</td>\n      <td>99</td>\n    </tr>\n    <tr>\n      <td>9</td>\n      <td>2003</td>\n      <td>cardinals</td>\n      <td>39</td>\n      <td>31</td>\n      <td>39</td>\n      <td>28</td>\n    </tr>\n    <tr>\n      <td>10</td>\n      <td>2003</td>\n      <td>hawks</td>\n      <td>74</td>\n      <td>75</td>\n      <td>79</td>\n      <td>93</td>\n    </tr>\n    <tr>\n      <td>11</td>\n      <td>2003</td>\n      <td>phoenix</td>\n      <td>55</td>\n      <td>55</td>\n      <td>58</td>\n      <td>34</td>\n    </tr>\n    <tr>\n      <td>12</td>\n      <td>2004</td>\n      <td>cardinals</td>\n      <td>33</td>\n      <td>42</td>\n      <td>57</td>\n      <td>9</td>\n    </tr>\n    <tr>\n      <td>13</td>\n      <td>2004</td>\n      <td>hawks</td>\n      <td>64</td>\n      <td>77</td>\n      <td>44</td>\n      <td>91</td>\n    </tr>\n    <tr>\n      <td>14</td>\n      <td>2004</td>\n      <td>phoenix</td>\n      <td>47</td>\n      <td>100</td>\n      <td>33</td>\n      <td>63</td>\n    </tr>\n  </tbody>\n</table>\n</div>",
            "text/plain": "    year       team  game_1  game_2  game_3  game_4\n0   2000  cardinals      69      67      97      23\n1   2000      hawks      41      44      34      98\n2   2000    phoenix      30      36      66      52\n3   2001  cardinals      56      89      98      21\n4   2001      hawks      80      83      53      55\n5   2001    phoenix      76      72      82      63\n6   2002  cardinals      23      24      21      91\n7   2002      hawks     100     100       0      78\n8   2002    phoenix      50      97      74      99\n9   2003  cardinals      39      31      39      28\n10  2003      hawks      74      75      79      93\n11  2003    phoenix      55      55      58      34\n12  2004  cardinals      33      42      57       9\n13  2004      hawks      64      77      44      91\n14  2004    phoenix      47     100      33      63"
          },
          "execution_count": 9,
          "metadata": {},
          "output_type": "execute_result"
        }
      ]
    },
    {
      "cell_type": "markdown",
      "source": "### Apply",
      "metadata": {
        "cell_id": "00012-02d9b2b0-9b94-4e7e-ba43-6752c9029dd8",
        "deepnote_cell_type": "markdown"
      }
    },
    {
      "cell_type": "code",
      "metadata": {
        "cell_id": "00013-69a53088-50ae-472b-b146-563ba80f9cfe",
        "deepnote_cell_type": "code"
      },
      "source": "# Apply a function to each group\ndf_apply = df.groupby('team')['game_1','game_2', 'game_3', 'game_4'].apply(lambda x: x.sum())\ndf_apply",
      "execution_count": 10,
      "outputs": [
        {
          "data": {
            "text/html": "<div>\n<style scoped>\n    .dataframe tbody tr th:only-of-type {\n        vertical-align: middle;\n    }\n\n    .dataframe tbody tr th {\n        vertical-align: top;\n    }\n\n    .dataframe thead th {\n        text-align: right;\n    }\n</style>\n<table border=\"1\" class=\"dataframe\">\n  <thead>\n    <tr style=\"text-align: right;\">\n      <th></th>\n      <th>game_1</th>\n      <th>game_2</th>\n      <th>game_3</th>\n      <th>game_4</th>\n    </tr>\n    <tr>\n      <th>team</th>\n      <th></th>\n      <th></th>\n      <th></th>\n      <th></th>\n    </tr>\n  </thead>\n  <tbody>\n    <tr>\n      <td>cardinals</td>\n      <td>220</td>\n      <td>253</td>\n      <td>312</td>\n      <td>172</td>\n    </tr>\n    <tr>\n      <td>hawks</td>\n      <td>359</td>\n      <td>379</td>\n      <td>210</td>\n      <td>415</td>\n    </tr>\n    <tr>\n      <td>phoenix</td>\n      <td>258</td>\n      <td>360</td>\n      <td>313</td>\n      <td>311</td>\n    </tr>\n  </tbody>\n</table>\n</div>",
            "text/plain": "           game_1  game_2  game_3  game_4\nteam                                     \ncardinals     220     253     312     172\nhawks         359     379     210     415\nphoenix       258     360     313     311"
          },
          "execution_count": 10,
          "metadata": {},
          "output_type": "execute_result"
        }
      ]
    },
    {
      "cell_type": "markdown",
      "source": "### Combine",
      "metadata": {
        "cell_id": "00014-3054a8be-c8ae-46b2-83ed-d443f81095a7",
        "deepnote_cell_type": "markdown"
      }
    },
    {
      "cell_type": "code",
      "metadata": {
        "cell_id": "00015-4758d770-90d4-4ca6-a5e3-874d6db7f7b6",
        "deepnote_cell_type": "code"
      },
      "source": "# Combining the results into a data structure\ndf_combine = df_apply.mean()\ndf_combine",
      "execution_count": 11,
      "outputs": [
        {
          "data": {
            "text/plain": "game_1    279.000000\ngame_2    330.666667\ngame_3    278.333333\ngame_4    299.333333\ndtype: float64"
          },
          "execution_count": 11,
          "metadata": {},
          "output_type": "execute_result"
        }
      ]
    },
    {
      "cell_type": "code",
      "metadata": {
        "cell_id": "00016-bfe4076f-a5d0-4bcd-ab17-33543a1bce79",
        "deepnote_cell_type": "code"
      },
      "source": "# end",
      "execution_count": null,
      "outputs": []
    },
    {
      "cell_type": "markdown",
      "source": "<a style='text-decoration:none;line-height:16px;display:flex;color:#5B5B62;padding:10px;justify-content:end;' href='https://deepnote.com?utm_source=created-in-deepnote-cell&projectId=0be58e23-60c5-40af-9cb7-633ba8900837' target=\"_blank\">\n<img style='display:inline;max-height:16px;margin:0px;margin-right:7.5px;' src='data:image/svg+xml;base64,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' > </img>\nCreated in <span style='font-weight:600;margin-left:4px;'>Deepnote</span></a>",
      "metadata": {
        "tags": [],
        "created_in_deepnote_cell": true,
        "deepnote_cell_type": "markdown"
      }
    }
  ],
  "nbformat": 4,
  "nbformat_minor": 2,
  "metadata": {
    "kernelspec": {
      "display_name": "Python 3",
      "language": "python",
      "name": "python3"
    },
    "language_info": {
      "codemirror_mode": {
        "name": "ipython",
        "version": 3
      },
      "file_extension": ".py",
      "mimetype": "text/x-python",
      "name": "python",
      "nbconvert_exporter": "python",
      "pygments_lexer": "ipython3",
      "version": "3.8.3"
    },
    "deepnote_notebook_id": "ba409867-7a04-4de7-9fad-490914c996ef",
    "deepnote": {},
    "deepnote_execution_queue": []
  }
}