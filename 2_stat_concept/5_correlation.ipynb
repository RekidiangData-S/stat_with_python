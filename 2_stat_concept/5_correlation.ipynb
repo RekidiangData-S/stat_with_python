{
  "cells": [
    {
      "cell_type": "markdown",
      "source": "# Correlation",
      "metadata": {
        "cell_id": "00000-2f34efc8-692f-4314-a379-d56fe0578387",
        "deepnote_cell_type": "markdown"
      }
    },
    {
      "cell_type": "markdown",
      "source": "**Correlation** is a measure of the strength and direction of a relationship between 2 variables. Correlation ranges from -1 to 1. \n+ A perfect positive correlation is 1,\n+ no correlation is 0, and \n+ a perfect negative correlation is -1. \n\nThe calculation involves two parts. \n+ The first part is taking 1 over n-1 where n is the number of observations. \n+ The second part is the sum of the product of the z-scores, also known as standard scores, for two variables, namely x and y.  Correlation, known as r,  is a calculation of the first part multiplied by the second part.",
      "metadata": {
        "cell_id": "00001-ec6f38cd-7f96-4f98-ad77-08e0660b4a4c",
        "deepnote_cell_type": "markdown"
      }
    },
    {
      "cell_type": "markdown",
      "source": "### Computing Correlation",
      "metadata": {
        "cell_id": "00002-c505269e-0c58-4d13-a2f6-f2a7c59d36a4",
        "deepnote_cell_type": "markdown"
      }
    },
    {
      "cell_type": "markdown",
      "source": "Formula for correlation:\n\n\nr = (1/(n-1)) * SUM[[z-score of x]*[z-score of y]]",
      "metadata": {
        "cell_id": "00003-0fb014b1-5275-4028-968f-fbb49c905e12",
        "deepnote_cell_type": "markdown"
      }
    },
    {
      "cell_type": "code",
      "metadata": {
        "cell_id": "00004-fc96669b-3386-447e-bc5c-abbc262190cd",
        "deepnote_cell_type": "code"
      },
      "source": "import pandas as pd",
      "execution_count": 1,
      "outputs": []
    },
    {
      "cell_type": "code",
      "metadata": {
        "cell_id": "00005-85590fa4-3833-4468-a2b1-1a6c2fc91d83",
        "deepnote_cell_type": "code"
      },
      "source": "# Let's say we have 2 variables, x and y\ndict1 = {'x':[1, 2, 3, 3], 'y':[1, 2, 4, 5]}\ndf1 = pd.DataFrame(dict1)\ndf1",
      "execution_count": 2,
      "outputs": [
        {
          "data": {
            "text/html": "<div>\n<style scoped>\n    .dataframe tbody tr th:only-of-type {\n        vertical-align: middle;\n    }\n\n    .dataframe tbody tr th {\n        vertical-align: top;\n    }\n\n    .dataframe thead th {\n        text-align: right;\n    }\n</style>\n<table border=\"1\" class=\"dataframe\">\n  <thead>\n    <tr style=\"text-align: right;\">\n      <th></th>\n      <th>x</th>\n      <th>y</th>\n    </tr>\n  </thead>\n  <tbody>\n    <tr>\n      <td>0</td>\n      <td>1</td>\n      <td>1</td>\n    </tr>\n    <tr>\n      <td>1</td>\n      <td>2</td>\n      <td>2</td>\n    </tr>\n    <tr>\n      <td>2</td>\n      <td>3</td>\n      <td>4</td>\n    </tr>\n    <tr>\n      <td>3</td>\n      <td>3</td>\n      <td>5</td>\n    </tr>\n  </tbody>\n</table>\n</div>",
            "text/plain": "   x  y\n0  1  1\n1  2  2\n2  3  4\n3  3  5"
          },
          "execution_count": 2,
          "metadata": {},
          "output_type": "execute_result"
        }
      ]
    },
    {
      "cell_type": "code",
      "metadata": {
        "cell_id": "00006-fda1aa75-0eac-442e-97ca-74e3672c4997",
        "deepnote_cell_type": "code"
      },
      "source": "# Let's calculate the mean of x\ndf1['x'].mean()",
      "execution_count": 3,
      "outputs": [
        {
          "data": {
            "text/plain": "2.25"
          },
          "execution_count": 3,
          "metadata": {},
          "output_type": "execute_result"
        }
      ]
    },
    {
      "cell_type": "code",
      "metadata": {
        "cell_id": "00007-97ffde07-586a-4109-bf7e-454ccc3becfb",
        "deepnote_cell_type": "code"
      },
      "source": "# standard deviation of x\ndf1['x'].std()",
      "execution_count": 4,
      "outputs": [
        {
          "data": {
            "text/plain": "0.9574271077563381"
          },
          "execution_count": 4,
          "metadata": {},
          "output_type": "execute_result"
        }
      ]
    },
    {
      "cell_type": "code",
      "metadata": {
        "cell_id": "00008-bf34d837-bf42-4e9a-a192-51c29f858bfa",
        "deepnote_cell_type": "code"
      },
      "source": "# mean of y\ndf1['y'].mean()",
      "execution_count": 5,
      "outputs": [
        {
          "data": {
            "text/plain": "3.0"
          },
          "execution_count": 5,
          "metadata": {},
          "output_type": "execute_result"
        }
      ]
    },
    {
      "cell_type": "code",
      "metadata": {
        "cell_id": "00009-8687d4a6-07af-4d7b-9969-7c3912fe5369",
        "deepnote_cell_type": "code"
      },
      "source": "# standard deviation of y\ndf1['y'].std()",
      "execution_count": 6,
      "outputs": [
        {
          "data": {
            "text/plain": "1.8257418583505538"
          },
          "execution_count": 6,
          "metadata": {},
          "output_type": "execute_result"
        }
      ]
    },
    {
      "cell_type": "markdown",
      "source": "Recall how the standard score (also called z-score) is calculated.\n\nstandard score = (observation - mean) / standard deviation",
      "metadata": {
        "cell_id": "00010-9750c115-0c92-42ab-a9e1-1ed07d91093a",
        "deepnote_cell_type": "markdown"
      }
    },
    {
      "cell_type": "code",
      "metadata": {
        "cell_id": "00011-7057ba46-4f86-4a06-ba87-fb990e481ae2",
        "deepnote_cell_type": "code"
      },
      "source": "# Create a new column with z-scores for x and y\ndf1['zscore_x'] = (df1['x'] - df1['x'].mean())/df1['x'].std()\ndf1['zscore_y'] = (df1['y'] - df1['y'].mean())/df1['y'].std()\ndf1",
      "execution_count": 7,
      "outputs": [
        {
          "data": {
            "text/html": "<div>\n<style scoped>\n    .dataframe tbody tr th:only-of-type {\n        vertical-align: middle;\n    }\n\n    .dataframe tbody tr th {\n        vertical-align: top;\n    }\n\n    .dataframe thead th {\n        text-align: right;\n    }\n</style>\n<table border=\"1\" class=\"dataframe\">\n  <thead>\n    <tr style=\"text-align: right;\">\n      <th></th>\n      <th>x</th>\n      <th>y</th>\n      <th>zscore_x</th>\n      <th>zscore_y</th>\n    </tr>\n  </thead>\n  <tbody>\n    <tr>\n      <td>0</td>\n      <td>1</td>\n      <td>1</td>\n      <td>-1.305582</td>\n      <td>-1.095445</td>\n    </tr>\n    <tr>\n      <td>1</td>\n      <td>2</td>\n      <td>2</td>\n      <td>-0.261116</td>\n      <td>-0.547723</td>\n    </tr>\n    <tr>\n      <td>2</td>\n      <td>3</td>\n      <td>4</td>\n      <td>0.783349</td>\n      <td>0.547723</td>\n    </tr>\n    <tr>\n      <td>3</td>\n      <td>3</td>\n      <td>5</td>\n      <td>0.783349</td>\n      <td>1.095445</td>\n    </tr>\n  </tbody>\n</table>\n</div>",
            "text/plain": "   x  y  zscore_x  zscore_y\n0  1  1 -1.305582 -1.095445\n1  2  2 -0.261116 -0.547723\n2  3  4  0.783349  0.547723\n3  3  5  0.783349  1.095445"
          },
          "execution_count": 7,
          "metadata": {},
          "output_type": "execute_result"
        }
      ]
    },
    {
      "cell_type": "code",
      "metadata": {
        "cell_id": "00012-51705668-be8e-4ccd-ab86-ca9b7e3a6063",
        "deepnote_cell_type": "code"
      },
      "source": "# Let's create another new column with the product of the z-scores for x and y\ndf1['zscore_product_xy'] = df1['zscore_x']*df1['zscore_y']\ndf1",
      "execution_count": 8,
      "outputs": [
        {
          "data": {
            "text/html": "<div>\n<style scoped>\n    .dataframe tbody tr th:only-of-type {\n        vertical-align: middle;\n    }\n\n    .dataframe tbody tr th {\n        vertical-align: top;\n    }\n\n    .dataframe thead th {\n        text-align: right;\n    }\n</style>\n<table border=\"1\" class=\"dataframe\">\n  <thead>\n    <tr style=\"text-align: right;\">\n      <th></th>\n      <th>x</th>\n      <th>y</th>\n      <th>zscore_x</th>\n      <th>zscore_y</th>\n      <th>zscore_product_xy</th>\n    </tr>\n  </thead>\n  <tbody>\n    <tr>\n      <td>0</td>\n      <td>1</td>\n      <td>1</td>\n      <td>-1.305582</td>\n      <td>-1.095445</td>\n      <td>1.430194</td>\n    </tr>\n    <tr>\n      <td>1</td>\n      <td>2</td>\n      <td>2</td>\n      <td>-0.261116</td>\n      <td>-0.547723</td>\n      <td>0.143019</td>\n    </tr>\n    <tr>\n      <td>2</td>\n      <td>3</td>\n      <td>4</td>\n      <td>0.783349</td>\n      <td>0.547723</td>\n      <td>0.429058</td>\n    </tr>\n    <tr>\n      <td>3</td>\n      <td>3</td>\n      <td>5</td>\n      <td>0.783349</td>\n      <td>1.095445</td>\n      <td>0.858116</td>\n    </tr>\n  </tbody>\n</table>\n</div>",
            "text/plain": "   x  y  zscore_x  zscore_y  zscore_product_xy\n0  1  1 -1.305582 -1.095445           1.430194\n1  2  2 -0.261116 -0.547723           0.143019\n2  3  4  0.783349  0.547723           0.429058\n3  3  5  0.783349  1.095445           0.858116"
          },
          "execution_count": 8,
          "metadata": {},
          "output_type": "execute_result"
        }
      ]
    },
    {
      "cell_type": "code",
      "metadata": {
        "cell_id": "00013-0afb9f8b-002a-47bf-a174-bdc5f0adad2c",
        "deepnote_cell_type": "code"
      },
      "source": "# Apply the formula of Correlation (r)\n\n# n is the number of observations\nn = df1.shape[0]\n\nr = (1/(n-1))*(df1['zscore_product_xy'].sum())\nr",
      "execution_count": 9,
      "outputs": [
        {
          "data": {
            "text/plain": "0.9534625892455924"
          },
          "execution_count": 9,
          "metadata": {},
          "output_type": "execute_result"
        }
      ]
    },
    {
      "cell_type": "code",
      "metadata": {
        "cell_id": "00014-87fd8c9f-de51-4413-945a-7a669e9a0a91",
        "deepnote_cell_type": "code"
      },
      "source": "# Now, let's look at some other examples\n\nimport numpy as np\nimport pandas as pd",
      "execution_count": 10,
      "outputs": []
    },
    {
      "cell_type": "code",
      "metadata": {
        "cell_id": "00015-41c3f706-faae-4ab9-951f-20f8defb2b60",
        "deepnote_cell_type": "code"
      },
      "source": "# Read in file\n\nsports = pd.read_csv(\"sports.csv\", skiprows=2)\n# Reset column names\ncol_names = ['Month', 'Golf', 'Soccer', 'Tennis', 'Hockey', 'Baseball']\nsports.columns = col_names\n\n# Set index\nsports.set_index('Month', inplace=True)\n\nsports.head()",
      "execution_count": 11,
      "outputs": [
        {
          "data": {
            "text/html": "<div>\n<style scoped>\n    .dataframe tbody tr th:only-of-type {\n        vertical-align: middle;\n    }\n\n    .dataframe tbody tr th {\n        vertical-align: top;\n    }\n\n    .dataframe thead th {\n        text-align: right;\n    }\n</style>\n<table border=\"1\" class=\"dataframe\">\n  <thead>\n    <tr style=\"text-align: right;\">\n      <th></th>\n      <th>Golf</th>\n      <th>Soccer</th>\n      <th>Tennis</th>\n      <th>Hockey</th>\n      <th>Baseball</th>\n    </tr>\n    <tr>\n      <th>Month</th>\n      <th></th>\n      <th></th>\n      <th></th>\n      <th></th>\n      <th></th>\n    </tr>\n  </thead>\n  <tbody>\n    <tr>\n      <td>2004-01</td>\n      <td>45</td>\n      <td>21</td>\n      <td>13</td>\n      <td>22</td>\n      <td>24</td>\n    </tr>\n    <tr>\n      <td>2004-02</td>\n      <td>50</td>\n      <td>24</td>\n      <td>13</td>\n      <td>23</td>\n      <td>32</td>\n    </tr>\n    <tr>\n      <td>2004-03</td>\n      <td>63</td>\n      <td>27</td>\n      <td>15</td>\n      <td>23</td>\n      <td>45</td>\n    </tr>\n    <tr>\n      <td>2004-04</td>\n      <td>80</td>\n      <td>29</td>\n      <td>16</td>\n      <td>16</td>\n      <td>53</td>\n    </tr>\n    <tr>\n      <td>2004-05</td>\n      <td>82</td>\n      <td>31</td>\n      <td>17</td>\n      <td>14</td>\n      <td>52</td>\n    </tr>\n  </tbody>\n</table>\n</div>",
            "text/plain": "         Golf  Soccer  Tennis  Hockey  Baseball\nMonth                                          \n2004-01    45      21      13      22        24\n2004-02    50      24      13      23        32\n2004-03    63      27      15      23        45\n2004-04    80      29      16      16        53\n2004-05    82      31      17      14        52"
          },
          "execution_count": 11,
          "metadata": {},
          "output_type": "execute_result"
        }
      ]
    },
    {
      "cell_type": "code",
      "metadata": {
        "cell_id": "00016-8ac0efea-6a6e-4871-957e-4afd6e9c47de",
        "deepnote_cell_type": "code"
      },
      "source": "# We can simply use the correlation function\n\nsports['Golf'].corr(sports['Baseball'])",
      "execution_count": 12,
      "outputs": [
        {
          "data": {
            "text/plain": "0.6812491123136919"
          },
          "execution_count": 12,
          "metadata": {},
          "output_type": "execute_result"
        }
      ]
    },
    {
      "cell_type": "markdown",
      "source": "### Correlation Matrix",
      "metadata": {
        "cell_id": "00017-d02cc709-5697-487d-b3ee-0b3e28423632",
        "deepnote_cell_type": "markdown"
      }
    },
    {
      "cell_type": "code",
      "metadata": {
        "cell_id": "00018-0203f0d7-62ca-4762-a9ca-059e35b7568c",
        "deepnote_cell_type": "code"
      },
      "source": "sports_correlation = sports[[\"Golf\", \"Soccer\", \"Tennis\", \"Hockey\", \"Baseball\"]].corr()\nprint(sports_correlation)",
      "execution_count": 13,
      "outputs": [
        {
          "name": "stdout",
          "output_type": "stream",
          "text": "              Golf    Soccer    Tennis    Hockey  Baseball\nGolf      1.000000  0.442875  0.694183 -0.473888  0.681249\nSoccer    0.442875  1.000000  0.379443 -0.404575  0.379608\nTennis    0.694183  0.379443  1.000000 -0.416072  0.282095\nHockey   -0.473888 -0.404575 -0.416072  1.000000 -0.329349\nBaseball  0.681249  0.379608  0.282095 -0.329349  1.000000\n"
        }
      ]
    },
    {
      "cell_type": "markdown",
      "source": "### Rolling Correlation",
      "metadata": {
        "cell_id": "00019-84932abf-51be-4ba0-8f62-599dce3cdfdc",
        "deepnote_cell_type": "markdown"
      }
    },
    {
      "cell_type": "code",
      "metadata": {
        "cell_id": "00020-77faadee-ba64-4d79-a1e4-a33fda07df19",
        "deepnote_cell_type": "code"
      },
      "source": "sports['Golf'].rolling(12).corr(sports['Soccer'])",
      "execution_count": 14,
      "outputs": [
        {
          "data": {
            "text/plain": "Month\n2004-01         NaN\n2004-02         NaN\n2004-03         NaN\n2004-04         NaN\n2004-05         NaN\n             ...   \n2019-07    0.717964\n2019-08    0.700039\n2019-09    0.688190\n2019-10    0.693513\n2019-11    0.661489\nLength: 191, dtype: float64"
          },
          "execution_count": 14,
          "metadata": {},
          "output_type": "execute_result"
        }
      ]
    },
    {
      "cell_type": "code",
      "metadata": {
        "cell_id": "00021-63ee4be6-e667-431a-b8ab-b666cfe09619",
        "deepnote_cell_type": "code"
      },
      "source": "# end",
      "execution_count": null,
      "outputs": []
    },
    {
      "cell_type": "markdown",
      "source": "<a style='text-decoration:none;line-height:16px;display:flex;color:#5B5B62;padding:10px;justify-content:end;' href='https://deepnote.com?utm_source=created-in-deepnote-cell&projectId=0be58e23-60c5-40af-9cb7-633ba8900837' target=\"_blank\">\n<img style='display:inline;max-height:16px;margin:0px;margin-right:7.5px;' src='data:image/svg+xml;base64,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' > </img>\nCreated in <span style='font-weight:600;margin-left:4px;'>Deepnote</span></a>",
      "metadata": {
        "tags": [],
        "created_in_deepnote_cell": true,
        "deepnote_cell_type": "markdown"
      }
    }
  ],
  "nbformat": 4,
  "nbformat_minor": 2,
  "metadata": {
    "kernelspec": {
      "display_name": "Python 3",
      "language": "python",
      "name": "python3"
    },
    "language_info": {
      "codemirror_mode": {
        "name": "ipython",
        "version": 3
      },
      "file_extension": ".py",
      "mimetype": "text/x-python",
      "name": "python",
      "nbconvert_exporter": "python",
      "pygments_lexer": "ipython3",
      "version": "3.8.3"
    },
    "deepnote_notebook_id": "dc4e8479-83c8-4686-ab82-09e9da86267a",
    "deepnote": {},
    "deepnote_execution_queue": []
  }
}